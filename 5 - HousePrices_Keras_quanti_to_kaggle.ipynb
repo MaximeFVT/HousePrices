{
 "cells": [
  {
   "cell_type": "code",
   "execution_count": 2,
   "metadata": {},
   "outputs": [],
   "source": [
    "import pandas as pd\n",
    "import matplotlib.pyplot as plt\n",
    "import seaborn as sns\n",
    "import numpy as np"
   ]
  },
  {
   "cell_type": "markdown",
   "metadata": {},
   "source": [
    "### import datasets"
   ]
  },
  {
   "cell_type": "code",
   "execution_count": 118,
   "metadata": {},
   "outputs": [],
   "source": [
    "train_full = pd.read_csv('./Data/train.csv')\n",
    "test_full = pd.read_csv('./Data/test.csv')"
   ]
  },
  {
   "cell_type": "code",
   "execution_count": 121,
   "metadata": {},
   "outputs": [],
   "source": [
    "test_full_Id = test_full['Id']"
   ]
  },
  {
   "cell_type": "code",
   "execution_count": 51,
   "metadata": {},
   "outputs": [],
   "source": [
    "train_full.drop(\"Id\", axis=1, inplace=True)\n",
    "test_full.drop(\"Id\", axis=1, inplace=True)"
   ]
  },
  {
   "cell_type": "code",
   "execution_count": 112,
   "metadata": {},
   "outputs": [
    {
     "data": {
      "text/plain": [
       "(1459, 79)"
      ]
     },
     "execution_count": 112,
     "metadata": {},
     "output_type": "execute_result"
    }
   ],
   "source": [
    "train_full.shape\n",
    "test_full.shape"
   ]
  },
  {
   "cell_type": "code",
   "execution_count": 53,
   "metadata": {},
   "outputs": [
    {
     "data": {
      "text/plain": [
       "MSSubClass         int64\n",
       "MSZoning          object\n",
       "LotFrontage      float64\n",
       "LotArea            int64\n",
       "Street            object\n",
       "                  ...   \n",
       "MoSold             int64\n",
       "YrSold             int64\n",
       "SaleType          object\n",
       "SaleCondition     object\n",
       "SalePrice          int64\n",
       "Length: 80, dtype: object"
      ]
     },
     "execution_count": 53,
     "metadata": {},
     "output_type": "execute_result"
    }
   ],
   "source": [
    "train_full.dtypes"
   ]
  },
  {
   "cell_type": "code",
   "execution_count": 54,
   "metadata": {},
   "outputs": [
    {
     "name": "stdout",
     "output_type": "stream",
     "text": [
      "Features Quali:\n",
      " Index(['MSZoning', 'Street', 'Alley', 'LotShape', 'LandContour', 'Utilities',\n",
      "       'LotConfig', 'LandSlope', 'Neighborhood', 'Condition1', 'Condition2',\n",
      "       'BldgType', 'HouseStyle', 'RoofStyle', 'RoofMatl', 'Exterior1st',\n",
      "       'Exterior2nd', 'MasVnrType', 'ExterQual', 'ExterCond', 'Foundation',\n",
      "       'BsmtQual', 'BsmtCond', 'BsmtExposure', 'BsmtFinType1', 'BsmtFinType2',\n",
      "       'Heating', 'HeatingQC', 'CentralAir', 'Electrical', 'KitchenQual',\n",
      "       'Functional', 'FireplaceQu', 'GarageType', 'GarageFinish', 'GarageQual',\n",
      "       'GarageCond', 'PavedDrive', 'PoolQC', 'Fence', 'MiscFeature',\n",
      "       'SaleType', 'SaleCondition'],\n",
      "      dtype='object')\n",
      "Features Quanti:\n",
      " Index(['MSSubClass', 'LotFrontage', 'LotArea', 'OverallQual', 'OverallCond',\n",
      "       'YearBuilt', 'YearRemodAdd', 'MasVnrArea', 'BsmtFinSF1', 'BsmtFinSF2',\n",
      "       'BsmtUnfSF', 'TotalBsmtSF', '1stFlrSF', '2ndFlrSF', 'LowQualFinSF',\n",
      "       'GrLivArea', 'BsmtFullBath', 'BsmtHalfBath', 'FullBath', 'HalfBath',\n",
      "       'BedroomAbvGr', 'KitchenAbvGr', 'TotRmsAbvGrd', 'Fireplaces',\n",
      "       'GarageYrBlt', 'GarageCars', 'GarageArea', 'WoodDeckSF', 'OpenPorchSF',\n",
      "       'EnclosedPorch', '3SsnPorch', 'ScreenPorch', 'PoolArea', 'MiscVal',\n",
      "       'MoSold', 'YrSold', 'SalePrice'],\n",
      "      dtype='object')\n"
     ]
    }
   ],
   "source": [
    "qual = train_full.select_dtypes(include=['object']).columns\n",
    "print(f\"Features Quali:\\n {qual}\")\n",
    "quant = train_full.select_dtypes(include=['float64', 'int64']).columns\n",
    "print(f\"Features Quanti:\\n {quant}\")"
   ]
  },
  {
   "cell_type": "code",
   "execution_count": 55,
   "metadata": {},
   "outputs": [
    {
     "data": {
      "text/plain": [
       "(1460, 37)"
      ]
     },
     "execution_count": 55,
     "metadata": {},
     "output_type": "execute_result"
    }
   ],
   "source": [
    "train_full_quant = train_full[quant]\n",
    "train_full_quant.shape"
   ]
  },
  {
   "cell_type": "code",
   "execution_count": 56,
   "metadata": {},
   "outputs": [
    {
     "name": "stdout",
     "output_type": "stream",
     "text": [
      "Nombre de NAs dans train_full[quant]: \n",
      " MSSubClass         0\n",
      "LotFrontage      259\n",
      "LotArea            0\n",
      "OverallQual        0\n",
      "OverallCond        0\n",
      "YearBuilt          0\n",
      "YearRemodAdd       0\n",
      "MasVnrArea         8\n",
      "BsmtFinSF1         0\n",
      "BsmtFinSF2         0\n",
      "BsmtUnfSF          0\n",
      "TotalBsmtSF        0\n",
      "1stFlrSF           0\n",
      "2ndFlrSF           0\n",
      "LowQualFinSF       0\n",
      "GrLivArea          0\n",
      "BsmtFullBath       0\n",
      "BsmtHalfBath       0\n",
      "FullBath           0\n",
      "HalfBath           0\n",
      "BedroomAbvGr       0\n",
      "KitchenAbvGr       0\n",
      "TotRmsAbvGrd       0\n",
      "Fireplaces         0\n",
      "GarageYrBlt       81\n",
      "GarageCars         0\n",
      "GarageArea         0\n",
      "WoodDeckSF         0\n",
      "OpenPorchSF        0\n",
      "EnclosedPorch      0\n",
      "3SsnPorch          0\n",
      "ScreenPorch        0\n",
      "PoolArea           0\n",
      "MiscVal            0\n",
      "MoSold             0\n",
      "YrSold             0\n",
      "SalePrice          0\n",
      "dtype: int64\n"
     ]
    }
   ],
   "source": [
    "print(f\"Nombre de NAs dans train_full[quant]: \\n {train_full_quant.isna().sum()}\")"
   ]
  },
  {
   "cell_type": "code",
   "execution_count": 57,
   "metadata": {},
   "outputs": [],
   "source": [
    "train_full_quant = train_full_quant.fillna(0)"
   ]
  },
  {
   "cell_type": "code",
   "execution_count": 58,
   "metadata": {},
   "outputs": [
    {
     "name": "stdout",
     "output_type": "stream",
     "text": [
      "Nombre de NAs dans train_full[quant]: \n",
      " MSSubClass       0\n",
      "LotFrontage      0\n",
      "LotArea          0\n",
      "OverallQual      0\n",
      "OverallCond      0\n",
      "YearBuilt        0\n",
      "YearRemodAdd     0\n",
      "MasVnrArea       0\n",
      "BsmtFinSF1       0\n",
      "BsmtFinSF2       0\n",
      "BsmtUnfSF        0\n",
      "TotalBsmtSF      0\n",
      "1stFlrSF         0\n",
      "2ndFlrSF         0\n",
      "LowQualFinSF     0\n",
      "GrLivArea        0\n",
      "BsmtFullBath     0\n",
      "BsmtHalfBath     0\n",
      "FullBath         0\n",
      "HalfBath         0\n",
      "BedroomAbvGr     0\n",
      "KitchenAbvGr     0\n",
      "TotRmsAbvGrd     0\n",
      "Fireplaces       0\n",
      "GarageYrBlt      0\n",
      "GarageCars       0\n",
      "GarageArea       0\n",
      "WoodDeckSF       0\n",
      "OpenPorchSF      0\n",
      "EnclosedPorch    0\n",
      "3SsnPorch        0\n",
      "ScreenPorch      0\n",
      "PoolArea         0\n",
      "MiscVal          0\n",
      "MoSold           0\n",
      "YrSold           0\n",
      "SalePrice        0\n",
      "dtype: int64\n"
     ]
    }
   ],
   "source": [
    "print(f\"Nombre de NAs dans train_full[quant]: \\n {train_full_quant.isna().sum()}\")"
   ]
  },
  {
   "cell_type": "markdown",
   "metadata": {},
   "source": [
    "### Détection et suppresion des outliers"
   ]
  },
  {
   "cell_type": "code",
   "execution_count": 59,
   "metadata": {},
   "outputs": [
    {
     "name": "stderr",
     "output_type": "stream",
     "text": [
      "C:\\Users\\utilisateur\\Anaconda3\\envs\\p3.6\\lib\\site-packages\\sklearn\\ensemble\\iforest.py:237: FutureWarning: default contamination parameter 0.1 will change in version 0.22 to \"auto\". This will change the predict method behavior.\n",
      "  FutureWarning)\n",
      "C:\\Users\\utilisateur\\Anaconda3\\envs\\p3.6\\lib\\site-packages\\sklearn\\ensemble\\iforest.py:247: FutureWarning: behaviour=\"old\" is deprecated and will be removed in version 0.22. Please use behaviour=\"new\", which makes the decision_function change to match other anomaly detection algorithm API.\n",
      "  FutureWarning)\n"
     ]
    },
    {
     "name": "stdout",
     "output_type": "stream",
     "text": [
      "Number of Outliers: 146\n",
      "Number of rows without outliers: 1314\n"
     ]
    },
    {
     "name": "stderr",
     "output_type": "stream",
     "text": [
      "C:\\Users\\utilisateur\\Anaconda3\\envs\\p3.6\\lib\\site-packages\\sklearn\\ensemble\\iforest.py:415: DeprecationWarning: threshold_ attribute is deprecated in 0.20 and will be removed in 0.22.\n",
      "  \" be removed in 0.22.\", DeprecationWarning)\n"
     ]
    }
   ],
   "source": [
    "from sklearn.ensemble import IsolationForest\n",
    "\n",
    "clf = IsolationForest(max_samples = 200, random_state = 42)\n",
    "clf.fit(train_full_quant)\n",
    "y_noano = clf.predict(train_full_quant)\n",
    "y_noano = pd.DataFrame(y_noano, columns = ['Top'])\n",
    "y_noano[y_noano['Top'] == 1].index.values\n",
    "\n",
    "train_full_quant = train_full_quant.iloc[y_noano[y_noano['Top'] == 1].index.values]\n",
    "train_full_quant.reset_index(drop = True, inplace = True)\n",
    "print(\"Number of Outliers:\", y_noano[y_noano['Top'] == -1].shape[0])\n",
    "print(\"Number of rows without outliers:\", train_full_quant.shape[0])"
   ]
  },
  {
   "cell_type": "markdown",
   "metadata": {},
   "source": [
    "### Comptage du nombre de features quantitatives et qualitatives"
   ]
  },
  {
   "cell_type": "code",
   "execution_count": 60,
   "metadata": {},
   "outputs": [
    {
     "name": "stdout",
     "output_type": "stream",
     "text": [
      "37 features numériques & 43 features catégorielles\n"
     ]
    }
   ],
   "source": [
    "num_quant_train_full = len(train_full.select_dtypes(include=['int64','float64']).columns)\n",
    "num_qual_train_full = len(train_full.select_dtypes(include=['object']).columns)\n",
    "\n",
    "print(f\"{num_quant_train_full} features numériques & {num_qual_train_full} features catégorielles\")"
   ]
  },
  {
   "cell_type": "markdown",
   "metadata": {},
   "source": [
    "### Matrice de confustion (features quantitatives)"
   ]
  },
  {
   "cell_type": "code",
   "execution_count": 61,
   "metadata": {},
   "outputs": [
    {
     "data": {
      "image/png": "[encoded data removed]",
      "text/plain": [
       "<Figure size 864x648 with 2 Axes>"
      ]
     },
     "metadata": {
      "needs_background": "light"
     },
     "output_type": "display_data"
    }
   ],
   "source": [
    "corrmat = train_full_quant.corr()\n",
    "f, ax = plt.subplots(figsize=(12, 9))\n",
    "sns.heatmap(corrmat, vmax=.8, square=True, linewidths=.5, cmap=\"YlGnBu\");"
   ]
  },
  {
   "cell_type": "markdown",
   "metadata": {},
   "source": [
    "### Sélection des 10 plus grosses corrélations parmis les features quantitatives"
   ]
  },
  {
   "cell_type": "code",
   "execution_count": 62,
   "metadata": {},
   "outputs": [
    {
     "data": {
      "text/plain": [
       "Index(['SalePrice', 'OverallQual', 'GrLivArea', 'GarageCars', 'GarageArea',\n",
       "       'TotalBsmtSF', 'YearBuilt', 'FullBath', '1stFlrSF', 'YearRemodAdd',\n",
       "       'TotRmsAbvGrd'],\n",
       "      dtype='object')"
      ]
     },
     "execution_count": 62,
     "metadata": {},
     "output_type": "execute_result"
    }
   ],
   "source": [
    "cols = corrmat.nlargest(11,'SalePrice').index\n",
    "cols"
   ]
  },
  {
   "cell_type": "markdown",
   "metadata": {},
   "source": [
    "### Matrice de confusion des 10 features quantitatives les plus corrélées"
   ]
  },
  {
   "cell_type": "code",
   "execution_count": 63,
   "metadata": {
    "scrolled": false
   },
   "outputs": [
    {
     "data": {
      "image/png": "[encoded data removed]",
      "text/plain": [
       "<Figure size 864x648 with 2 Axes>"
      ]
     },
     "metadata": {
      "needs_background": "light"
     },
     "output_type": "display_data"
    }
   ],
   "source": [
    "corrmat2 = train_full_quant[cols].corr()\n",
    "f, ax = plt.subplots(figsize=(12, 9))\n",
    "sns.heatmap(corrmat2, vmax=1, square=True, linewidths=.5, cmap=\"YlGnBu\", annot=True, mask=np.triu(corrmat2));"
   ]
  },
  {
   "cell_type": "code",
   "execution_count": 64,
   "metadata": {},
   "outputs": [],
   "source": [
    "train_full_quant.drop([\"TotRmsAbvGrd\", \"GarageCars\", \"TotalBsmtSF\", \"GarageYrBlt\"], axis=1, inplace=True)"
   ]
  },
  {
   "cell_type": "code",
   "execution_count": 65,
   "metadata": {},
   "outputs": [],
   "source": [
    "quant = train_full_quant.select_dtypes(include=['float64', 'int64']).columns"
   ]
  },
  {
   "cell_type": "code",
   "execution_count": 66,
   "metadata": {},
   "outputs": [
    {
     "data": {
      "text/plain": [
       "Index(['SalePrice', 'OverallQual', 'GrLivArea', 'GarageArea', 'YearBuilt',\n",
       "       'FullBath', '1stFlrSF', 'YearRemodAdd', 'Fireplaces', 'MasVnrArea',\n",
       "       'OpenPorchSF'],\n",
       "      dtype='object')"
      ]
     },
     "execution_count": 66,
     "metadata": {},
     "output_type": "execute_result"
    }
   ],
   "source": [
    "corrmat3 = train_full_quant.corr()\n",
    "cols3 = corrmat3.nlargest(11,'SalePrice').index\n",
    "cols3"
   ]
  },
  {
   "cell_type": "code",
   "execution_count": 67,
   "metadata": {},
   "outputs": [
    {
     "data": {
      "image/png": "[encoded data removed]",
      "text/plain": [
       "<Figure size 864x648 with 2 Axes>"
      ]
     },
     "metadata": {
      "needs_background": "light"
     },
     "output_type": "display_data"
    }
   ],
   "source": [
    "corrmat4 = train_full_quant[cols3].corr()\n",
    "f, ax = plt.subplots(figsize=(12, 9))\n",
    "sns.heatmap(corrmat4, vmax=1, square=True, linewidths=.5, cmap=\"YlGnBu\", annot=True, mask=np.triu(corrmat4));"
   ]
  },
  {
   "cell_type": "markdown",
   "metadata": {},
   "source": [
    "### Affichage des correlations avec SalePrice des 10 features quantitatives les plus fortement corrélées"
   ]
  },
  {
   "cell_type": "code",
   "execution_count": 68,
   "metadata": {},
   "outputs": [
    {
     "data": {
      "text/plain": [
       "SalePrice       1.000000\n",
       "OverallQual     0.803117\n",
       "GrLivArea       0.725020\n",
       "GarageArea      0.635267\n",
       "YearBuilt       0.593849\n",
       "FullBath        0.589885\n",
       "1stFlrSF        0.585174\n",
       "YearRemodAdd    0.550722\n",
       "Fireplaces      0.438582\n",
       "MasVnrArea      0.389110\n",
       "OpenPorchSF     0.385297\n",
       "Name: SalePrice, dtype: float64"
      ]
     },
     "execution_count": 68,
     "metadata": {},
     "output_type": "execute_result"
    }
   ],
   "source": [
    "corrmat4['SalePrice']"
   ]
  },
  {
   "cell_type": "markdown",
   "metadata": {},
   "source": [
    "### Visualisation des data des 10 features quantitatives les plus fortement corrélées avec SalePrice"
   ]
  },
  {
   "cell_type": "markdown",
   "metadata": {},
   "source": [
    "OverallQual / SalePrice"
   ]
  },
  {
   "cell_type": "code",
   "execution_count": 69,
   "metadata": {},
   "outputs": [
    {
     "name": "stdout",
     "output_type": "stream",
     "text": [
      "corr : 0.803\n"
     ]
    },
    {
     "data": {
      "image/png": "[encoded data removed]",
      "text/plain": [
       "<Figure size 432x288 with 1 Axes>"
      ]
     },
     "metadata": {
      "needs_background": "light"
     },
     "output_type": "display_data"
    }
   ],
   "source": [
    "sns.boxplot(x='OverallQual', y='SalePrice', data=train_full)\n",
    "print(f\"corr : {round(train_full_quant['OverallQual'].corr(train_full_quant['SalePrice']),3)}\")"
   ]
  },
  {
   "cell_type": "markdown",
   "metadata": {},
   "source": [
    "Enlèvement des outliers de OverallQual"
   ]
  },
  {
   "cell_type": "code",
   "execution_count": 70,
   "metadata": {},
   "outputs": [
    {
     "name": "stdout",
     "output_type": "stream",
     "text": [
      "corr : 0.822\n"
     ]
    },
    {
     "data": {
      "image/png": "[encoded data removed]",
      "text/plain": [
       "<Figure size 432x288 with 1 Axes>"
      ]
     },
     "metadata": {
      "needs_background": "light"
     },
     "output_type": "display_data"
    }
   ],
   "source": [
    "train_full_quant = train_full_quant.drop(train_full_quant[(train_full_quant['SalePrice']>700000)].index).reset_index(drop=True)\n",
    "\n",
    "train_full_quant = train_full_quant.drop(train_full_quant[(train_full_quant['SalePrice']>405000)&(train_full_quant['OverallQual']==8)].index).reset_index(drop=True)\n",
    "train_full_quant = train_full_quant.drop(train_full_quant[(train_full_quant['SalePrice']<130000)&(train_full_quant['OverallQual']==8)].index).reset_index(drop=True)\n",
    "\n",
    "train_full_quant = train_full_quant.drop(train_full_quant[(train_full_quant['SalePrice']>480000)&(train_full_quant['OverallQual']==9)].index).reset_index(drop=True)\n",
    "\n",
    "train_full_quant = train_full_quant.drop(train_full_quant[(train_full_quant['SalePrice']>305000)&(train_full_quant['OverallQual']==7)].index).reset_index(drop=True)\n",
    "train_full_quant = train_full_quant.drop(train_full_quant[(train_full_quant['SalePrice']<100000)&(train_full_quant['OverallQual']==7)].index).reset_index(drop=True)\n",
    "\n",
    "train_full_quant = train_full_quant.drop(train_full_quant[(train_full_quant['SalePrice']>240000)&(train_full_quant['OverallQual']==6)].index).reset_index(drop=True)\n",
    "\n",
    "train_full_quant = train_full_quant.drop(train_full_quant[(train_full_quant['SalePrice']>190000)&(train_full_quant['OverallQual']==5)].index).reset_index(drop=True)\n",
    "train_full_quant = train_full_quant.drop(train_full_quant[(train_full_quant['SalePrice']<70000)&(train_full_quant['OverallQual']==5)].index).reset_index(drop=True)\n",
    "\n",
    "train_full_quant = train_full_quant.drop(train_full_quant[(train_full_quant['SalePrice']>130000)&(train_full_quant['OverallQual']==3)].index).reset_index(drop=True)\n",
    "train_full_quant = train_full_quant.drop(train_full_quant[(train_full_quant['SalePrice']<50000)&(train_full_quant['OverallQual']==3)].index).reset_index(drop=True)\n",
    "\n",
    "\n",
    "train_full_quant = train_full_quant.drop(train_full_quant[(train_full_quant['SalePrice']>200000)&(train_full_quant['OverallQual']==4)].index).reset_index(drop=True)\n",
    "sns.boxplot(x='OverallQual',y='SalePrice', data=train_full_quant)\n",
    "print(f\"corr : {round(train_full_quant['OverallQual'].corr(train_full_quant['SalePrice']),3)}\")\n"
   ]
  },
  {
   "cell_type": "markdown",
   "metadata": {},
   "source": [
    "GrLivArea / SalePrice"
   ]
  },
  {
   "cell_type": "code",
   "execution_count": 71,
   "metadata": {},
   "outputs": [
    {
     "name": "stdout",
     "output_type": "stream",
     "text": [
      "corr : 0.716\n"
     ]
    },
    {
     "data": {
      "image/png": "[encoded data removed]",
      "text/plain": [
       "<Figure size 432x288 with 1 Axes>"
      ]
     },
     "metadata": {
      "needs_background": "light"
     },
     "output_type": "display_data"
    }
   ],
   "source": [
    "sns.regplot(x='GrLivArea',y='SalePrice', data=train_full_quant)\n",
    "print(f\"corr : {round(train_full_quant['GrLivArea'].corr(train_full_quant['SalePrice']),3)}\")"
   ]
  },
  {
   "cell_type": "markdown",
   "metadata": {},
   "source": [
    "GarageArea / SalePrice"
   ]
  },
  {
   "cell_type": "code",
   "execution_count": 72,
   "metadata": {},
   "outputs": [
    {
     "name": "stdout",
     "output_type": "stream",
     "text": [
      "corr : 0.632\n"
     ]
    },
    {
     "data": {
      "image/png": "[encoded data removed]",
      "text/plain": [
       "<Figure size 432x288 with 1 Axes>"
      ]
     },
     "metadata": {
      "needs_background": "light"
     },
     "output_type": "display_data"
    }
   ],
   "source": [
    "sns.regplot(x='GarageArea',y='SalePrice', data=train_full_quant)\n",
    "print(f\"corr : {round(train_full_quant['GarageArea'].corr(train_full_quant['SalePrice']),3)}\")"
   ]
  },
  {
   "cell_type": "markdown",
   "metadata": {},
   "source": [
    "YearBuilt / SalePrice"
   ]
  },
  {
   "cell_type": "code",
   "execution_count": 73,
   "metadata": {},
   "outputs": [
    {
     "name": "stdout",
     "output_type": "stream",
     "text": [
      "corr : 0.598\n"
     ]
    },
    {
     "data": {
      "image/png": "[encoded data removed]",
      "text/plain": [
       "<Figure size 432x288 with 1 Axes>"
      ]
     },
     "metadata": {
      "needs_background": "light"
     },
     "output_type": "display_data"
    }
   ],
   "source": [
    "sns.regplot(x='YearBuilt',y='SalePrice', data=train_full_quant)\n",
    "print(f\"corr : {round(train_full_quant['YearBuilt'].corr(train_full_quant['SalePrice']),3)}\")"
   ]
  },
  {
   "cell_type": "markdown",
   "metadata": {},
   "source": [
    "1stFlrSF / SalePrice"
   ]
  },
  {
   "cell_type": "code",
   "execution_count": 74,
   "metadata": {},
   "outputs": [
    {
     "name": "stdout",
     "output_type": "stream",
     "text": [
      "corr : 0.587\n"
     ]
    },
    {
     "data": {
      "image/png": "[encoded data removed]",
      "text/plain": [
       "<Figure size 432x288 with 1 Axes>"
      ]
     },
     "metadata": {
      "needs_background": "light"
     },
     "output_type": "display_data"
    }
   ],
   "source": [
    "sns.regplot(x='1stFlrSF',y='SalePrice', data=train_full_quant)\n",
    "print(f\"corr : {round(train_full_quant['1stFlrSF'].corr(train_full_quant['SalePrice']),3)}\")"
   ]
  },
  {
   "cell_type": "markdown",
   "metadata": {},
   "source": [
    "FullBath / SalePrice"
   ]
  },
  {
   "cell_type": "code",
   "execution_count": 75,
   "metadata": {},
   "outputs": [
    {
     "name": "stdout",
     "output_type": "stream",
     "text": [
      "corr : 0.588\n"
     ]
    },
    {
     "data": {
      "image/png": "[encoded data removed]",
      "text/plain": [
       "<Figure size 432x288 with 1 Axes>"
      ]
     },
     "metadata": {
      "needs_background": "light"
     },
     "output_type": "display_data"
    }
   ],
   "source": [
    "sns.boxplot(x='FullBath',y='SalePrice', data=train_full_quant)\n",
    "print(f\"corr : {round(train_full_quant['FullBath'].corr(train_full_quant['SalePrice']),3)}\")"
   ]
  },
  {
   "cell_type": "markdown",
   "metadata": {},
   "source": [
    "YearRemodAdd / SalePrice"
   ]
  },
  {
   "cell_type": "code",
   "execution_count": 76,
   "metadata": {},
   "outputs": [
    {
     "name": "stdout",
     "output_type": "stream",
     "text": [
      "corr : 0.545\n"
     ]
    },
    {
     "data": {
      "image/png": "[encoded data removed]",
      "text/plain": [
       "<Figure size 432x288 with 1 Axes>"
      ]
     },
     "metadata": {
      "needs_background": "light"
     },
     "output_type": "display_data"
    }
   ],
   "source": [
    "sns.regplot(x='YearRemodAdd',y='SalePrice', data=train_full_quant)\n",
    "print(f\"corr : {round(train_full_quant['YearRemodAdd'].corr(train_full_quant['SalePrice']),3)}\")"
   ]
  },
  {
   "cell_type": "markdown",
   "metadata": {},
   "source": [
    "Fireplaces / SalePrice"
   ]
  },
  {
   "cell_type": "code",
   "execution_count": 77,
   "metadata": {},
   "outputs": [
    {
     "name": "stdout",
     "output_type": "stream",
     "text": [
      "corr : 0.437\n"
     ]
    },
    {
     "data": {
      "image/png": "[encoded data removed]",
      "text/plain": [
       "<Figure size 432x288 with 1 Axes>"
      ]
     },
     "metadata": {
      "needs_background": "light"
     },
     "output_type": "display_data"
    }
   ],
   "source": [
    "sns.boxplot(x='Fireplaces',y='SalePrice', data=train_full_quant)\n",
    "print(f\"corr : {round(train_full_quant['Fireplaces'].corr(train_full_quant['SalePrice']),3)}\")"
   ]
  },
  {
   "cell_type": "markdown",
   "metadata": {},
   "source": [
    "MasVnrArea / SalePrice"
   ]
  },
  {
   "cell_type": "code",
   "execution_count": 78,
   "metadata": {},
   "outputs": [
    {
     "name": "stdout",
     "output_type": "stream",
     "text": [
      "corr : 0.38\n"
     ]
    },
    {
     "data": {
      "image/png": "[encoded data removed]",
      "text/plain": [
       "<Figure size 432x288 with 1 Axes>"
      ]
     },
     "metadata": {
      "needs_background": "light"
     },
     "output_type": "display_data"
    }
   ],
   "source": [
    "sns.regplot(x='MasVnrArea',y='SalePrice', data=train_full_quant)\n",
    "print(f\"corr : {round(train_full_quant['MasVnrArea'].corr(train_full_quant['SalePrice']),3)}\")"
   ]
  },
  {
   "cell_type": "markdown",
   "metadata": {},
   "source": [
    "OpenPorchSF / SalePrice"
   ]
  },
  {
   "cell_type": "code",
   "execution_count": 79,
   "metadata": {},
   "outputs": [
    {
     "name": "stdout",
     "output_type": "stream",
     "text": [
      "corr : 0.376\n"
     ]
    },
    {
     "data": {
      "image/png": "[encoded data removed]",
      "text/plain": [
       "<Figure size 432x288 with 1 Axes>"
      ]
     },
     "metadata": {
      "needs_background": "light"
     },
     "output_type": "display_data"
    }
   ],
   "source": [
    "sns.regplot(x='OpenPorchSF',y='SalePrice', data=train_full_quant)\n",
    "print(f\"corr : {round(train_full_quant['OpenPorchSF'].corr(train_full_quant['SalePrice']),3)}\")"
   ]
  },
  {
   "cell_type": "code",
   "execution_count": 80,
   "metadata": {},
   "outputs": [
    {
     "data": {
      "text/plain": [
       "SalePrice       1.000000\n",
       "OverallQual     0.822381\n",
       "GrLivArea       0.716049\n",
       "GarageArea      0.632117\n",
       "YearBuilt       0.598047\n",
       "FullBath        0.587783\n",
       "1stFlrSF        0.587027\n",
       "YearRemodAdd    0.545475\n",
       "Fireplaces      0.436762\n",
       "MasVnrArea      0.379798\n",
       "OpenPorchSF     0.376041\n",
       "Name: SalePrice, dtype: float64"
      ]
     },
     "execution_count": 80,
     "metadata": {},
     "output_type": "execute_result"
    }
   ],
   "source": [
    "corrmat3 = train_full_quant[cols3].corr()\n",
    "corrmat3['SalePrice']"
   ]
  },
  {
   "cell_type": "code",
   "execution_count": 82,
   "metadata": {},
   "outputs": [
    {
     "name": "stdout",
     "output_type": "stream",
     "text": [
      "Nombre de NAs dans train_full_quant: \n",
      " MSSubClass       0\n",
      "LotFrontage      0\n",
      "LotArea          0\n",
      "OverallQual      0\n",
      "OverallCond      0\n",
      "YearBuilt        0\n",
      "YearRemodAdd     0\n",
      "MasVnrArea       0\n",
      "BsmtFinSF1       0\n",
      "BsmtFinSF2       0\n",
      "BsmtUnfSF        0\n",
      "1stFlrSF         0\n",
      "2ndFlrSF         0\n",
      "LowQualFinSF     0\n",
      "GrLivArea        0\n",
      "BsmtFullBath     0\n",
      "BsmtHalfBath     0\n",
      "FullBath         0\n",
      "HalfBath         0\n",
      "BedroomAbvGr     0\n",
      "KitchenAbvGr     0\n",
      "Fireplaces       0\n",
      "GarageArea       0\n",
      "WoodDeckSF       0\n",
      "OpenPorchSF      0\n",
      "EnclosedPorch    0\n",
      "3SsnPorch        0\n",
      "ScreenPorch      0\n",
      "PoolArea         0\n",
      "MiscVal          0\n",
      "MoSold           0\n",
      "YrSold           0\n",
      "SalePrice        0\n",
      "dtype: int64\n"
     ]
    }
   ],
   "source": [
    "print(f\"Nombre de NAs dans train_full_quant: \\n {train_full_quant.isna().sum()}\")"
   ]
  },
  {
   "cell_type": "code",
   "execution_count": 90,
   "metadata": {},
   "outputs": [],
   "source": [
    "train_full_quant = train_full_quant[cols3]"
   ]
  },
  {
   "cell_type": "markdown",
   "metadata": {},
   "source": [
    "### Split du train_full_quant en train et val"
   ]
  },
  {
   "cell_type": "code",
   "execution_count": 91,
   "metadata": {},
   "outputs": [
    {
     "name": "stdout",
     "output_type": "stream",
     "text": [
      "Train full shape: (1284, 11)\n",
      "Train shape: (898, 11)\n",
      "Val shape: (386, 11)\n"
     ]
    }
   ],
   "source": [
    "from sklearn.model_selection import train_test_split\n",
    "from numpy import random\n",
    "\n",
    "SEED = 42\n",
    "random.seed(SEED)\n",
    "train, val= train_test_split(train_full_quant, test_size=0.3)\n",
    "\n",
    "print(\"Train full shape: \" + str(train_full_quant.shape))\n",
    "print(\"Train shape: \" + str(train.shape))\n",
    "print(\"Val shape: \" + str(val.shape))"
   ]
  },
  {
   "cell_type": "markdown",
   "metadata": {},
   "source": [
    "### Séparation de X_train et Y_train sur train et val"
   ]
  },
  {
   "cell_type": "code",
   "execution_count": 92,
   "metadata": {},
   "outputs": [],
   "source": [
    "target_column = 'SalePrice'\n",
    "Y_train = train[target_column].values\n",
    "X_train = train.drop(target_column, axis=1).values\n",
    "X_val = val.drop(target_column, axis=1).values\n",
    "Y_val = val[target_column].values"
   ]
  },
  {
   "cell_type": "markdown",
   "metadata": {},
   "source": [
    "### Normalisation X"
   ]
  },
  {
   "cell_type": "code",
   "execution_count": 93,
   "metadata": {},
   "outputs": [
    {
     "name": "stdout",
     "output_type": "stream",
     "text": [
      "(898, 10)\n"
     ]
    }
   ],
   "source": [
    "from sklearn.preprocessing import StandardScaler\n",
    "\n",
    "scaler = StandardScaler()\n",
    "scaler.fit(X_train)\n",
    "X_train_scaled = scaler.transform(X_train)\n",
    "X_val_scaled = scaler.transform(X_val)\n",
    "print(X_train_scaled.shape)"
   ]
  },
  {
   "cell_type": "markdown",
   "metadata": {},
   "source": [
    "### Transfo SalePrice en log"
   ]
  },
  {
   "cell_type": "code",
   "execution_count": 94,
   "metadata": {},
   "outputs": [],
   "source": [
    "Y_train = np.log1p(Y_train)\n",
    "Y_val = np.log1p(Y_val)"
   ]
  },
  {
   "cell_type": "markdown",
   "metadata": {},
   "source": [
    "### Normalisation Y"
   ]
  },
  {
   "cell_type": "code",
   "execution_count": 95,
   "metadata": {},
   "outputs": [
    {
     "name": "stdout",
     "output_type": "stream",
     "text": [
      "(898, 1)\n",
      "(386, 1)\n"
     ]
    }
   ],
   "source": [
    "Y_train_reshaped = np.reshape(Y_train, (Y_train.shape[0], 1))\n",
    "print(Y_train_reshaped.shape)\n",
    "Y_val_reshaped = np.reshape(Y_val, (Y_val.shape[0], 1))\n",
    "print(Y_val_reshaped.shape)"
   ]
  },
  {
   "cell_type": "code",
   "execution_count": 96,
   "metadata": {},
   "outputs": [],
   "source": [
    "scaler2 = StandardScaler()\n",
    "scaler2.fit(Y_train_reshaped)\n",
    "\n",
    "Y_train_scaled = scaler2.transform(Y_train_reshaped)\n",
    "Y_val_scaled = scaler2.transform(Y_val_reshaped)"
   ]
  },
  {
   "cell_type": "markdown",
   "metadata": {},
   "source": [
    "### Création modèle Sequential"
   ]
  },
  {
   "cell_type": "code",
   "execution_count": 97,
   "metadata": {},
   "outputs": [],
   "source": [
    "from tensorflow.keras.models import Sequential\n",
    "\n",
    "model = Sequential()"
   ]
  },
  {
   "cell_type": "code",
   "execution_count": 203,
   "metadata": {},
   "outputs": [
    {
     "name": "stdout",
     "output_type": "stream",
     "text": [
      "Train on 898 samples\n",
      "Epoch 1/1000\n",
      "898/898 [==============================] - 1s 716us/sample - loss: 0.8141\n",
      "Epoch 2/1000\n",
      "898/898 [==============================] - 0s 4us/sample - loss: 0.8111\n",
      "Epoch 3/1000\n",
      "898/898 [==============================] - 0s 4us/sample - loss: 0.8081\n",
      "Epoch 4/1000\n",
      "898/898 [==============================] - 0s 8us/sample - loss: 0.8050\n",
      "Epoch 5/1000\n",
      "898/898 [==============================] - 0s 7us/sample - loss: 0.8020\n",
      "Epoch 6/1000\n",
      "898/898 [==============================] - 0s 6us/sample - loss: 0.7990\n",
      "Epoch 7/1000\n",
      "898/898 [==============================] - 0s 7us/sample - loss: 0.7959\n",
      "Epoch 8/1000\n",
      "898/898 [==============================] - 0s 6us/sample - loss: 0.7929\n",
      "Epoch 9/1000\n",
      "898/898 [==============================] - 0s 7us/sample - loss: 0.7899\n",
      "Epoch 10/1000\n",
      "898/898 [==============================] - 0s 6us/sample - loss: 0.7869\n",
      "Epoch 11/1000\n",
      "898/898 [==============================] - 0s 7us/sample - loss: 0.7839\n",
      "Epoch 12/1000\n",
      "898/898 [==============================] - 0s 8us/sample - loss: 0.7809\n",
      "Epoch 13/1000\n",
      "898/898 [==============================] - 0s 7us/sample - loss: 0.7780\n",
      "Epoch 14/1000\n",
      "898/898 [==============================] - 0s 7us/sample - loss: 0.7750\n",
      "Epoch 15/1000\n",
      "898/898 [==============================] - 0s 7us/sample - loss: 0.7720\n",
      "Epoch 16/1000\n",
      "898/898 [==============================] - 0s 7us/sample - loss: 0.7691\n",
      "Epoch 17/1000\n",
      "898/898 [==============================] - 0s 7us/sample - loss: 0.7662\n",
      "Epoch 18/1000\n",
      "898/898 [==============================] - 0s 7us/sample - loss: 0.7632\n",
      "Epoch 19/1000\n",
      "898/898 [==============================] - 0s 8us/sample - loss: 0.7603\n",
      "Epoch 20/1000\n",
      "898/898 [==============================] - 0s 7us/sample - loss: 0.7574\n",
      "Epoch 21/1000\n",
      "898/898 [==============================] - 0s 8us/sample - loss: 0.7545\n",
      "Epoch 22/1000\n",
      "898/898 [==============================] - 0s 8us/sample - loss: 0.7516\n",
      "Epoch 23/1000\n",
      "898/898 [==============================] - 0s 6us/sample - loss: 0.7488\n",
      "Epoch 24/1000\n",
      "898/898 [==============================] - 0s 8us/sample - loss: 0.7459\n",
      "Epoch 25/1000\n",
      "898/898 [==============================] - 0s 7us/sample - loss: 0.7431\n",
      "Epoch 26/1000\n",
      "898/898 [==============================] - 0s 7us/sample - loss: 0.7403\n",
      "Epoch 27/1000\n",
      "898/898 [==============================] - 0s 7us/sample - loss: 0.7374\n",
      "Epoch 28/1000\n",
      "898/898 [==============================] - 0s 7us/sample - loss: 0.7346\n",
      "Epoch 29/1000\n",
      "898/898 [==============================] - 0s 10us/sample - loss: 0.7319\n",
      "Epoch 30/1000\n",
      "898/898 [==============================] - 0s 7us/sample - loss: 0.7291\n",
      "Epoch 31/1000\n",
      "898/898 [==============================] - 0s 9us/sample - loss: 0.7263\n",
      "Epoch 32/1000\n",
      "898/898 [==============================] - 0s 7us/sample - loss: 0.7235\n",
      "Epoch 33/1000\n",
      "898/898 [==============================] - 0s 8us/sample - loss: 0.7208\n",
      "Epoch 34/1000\n",
      "898/898 [==============================] - 0s 6us/sample - loss: 0.7181\n",
      "Epoch 35/1000\n",
      "898/898 [==============================] - 0s 7us/sample - loss: 0.7153\n",
      "Epoch 36/1000\n",
      "898/898 [==============================] - 0s 6us/sample - loss: 0.7126\n",
      "Epoch 37/1000\n",
      "898/898 [==============================] - 0s 7us/sample - loss: 0.7099\n",
      "Epoch 38/1000\n",
      "898/898 [==============================] - 0s 7us/sample - loss: 0.7072\n",
      "Epoch 39/1000\n",
      "898/898 [==============================] - 0s 8us/sample - loss: 0.7046\n",
      "Epoch 40/1000\n",
      "898/898 [==============================] - 0s 6us/sample - loss: 0.7019\n",
      "Epoch 41/1000\n",
      "898/898 [==============================] - 0s 10us/sample - loss: 0.6993\n",
      "Epoch 42/1000\n",
      "898/898 [==============================] - 0s 6us/sample - loss: 0.6967\n",
      "Epoch 43/1000\n",
      "898/898 [==============================] - 0s 7us/sample - loss: 0.6940\n",
      "Epoch 44/1000\n",
      "898/898 [==============================] - 0s 7us/sample - loss: 0.6914\n",
      "Epoch 45/1000\n",
      "898/898 [==============================] - 0s 7us/sample - loss: 0.6889\n",
      "Epoch 46/1000\n",
      "898/898 [==============================] - 0s 7us/sample - loss: 0.6863\n",
      "Epoch 47/1000\n",
      "898/898 [==============================] - 0s 8us/sample - loss: 0.6837\n",
      "Epoch 48/1000\n",
      "898/898 [==============================] - 0s 6us/sample - loss: 0.6812\n",
      "Epoch 49/1000\n",
      "898/898 [==============================] - 0s 6us/sample - loss: 0.6787\n",
      "Epoch 50/1000\n",
      "898/898 [==============================] - 0s 7us/sample - loss: 0.6762\n",
      "Epoch 51/1000\n",
      "898/898 [==============================] - 0s 7us/sample - loss: 0.6737\n",
      "Epoch 52/1000\n",
      "898/898 [==============================] - 0s 8us/sample - loss: 0.6712\n",
      "Epoch 53/1000\n",
      "898/898 [==============================] - 0s 7us/sample - loss: 0.6687\n",
      "Epoch 54/1000\n",
      "898/898 [==============================] - 0s 7us/sample - loss: 0.6663\n",
      "Epoch 55/1000\n",
      "898/898 [==============================] - 0s 4us/sample - loss: 0.6639\n",
      "Epoch 56/1000\n",
      "898/898 [==============================] - 0s 7us/sample - loss: 0.6614\n",
      "Epoch 57/1000\n",
      "898/898 [==============================] - 0s 7us/sample - loss: 0.6590\n",
      "Epoch 58/1000\n",
      "898/898 [==============================] - 0s 10us/sample - loss: 0.6566\n",
      "Epoch 59/1000\n",
      "898/898 [==============================] - 0s 6us/sample - loss: 0.6543\n",
      "Epoch 60/1000\n",
      "898/898 [==============================] - 0s 10us/sample - loss: 0.6519\n",
      "Epoch 61/1000\n",
      "898/898 [==============================] - 0s 12us/sample - loss: 0.6496\n",
      "Epoch 62/1000\n",
      "898/898 [==============================] - 0s 10us/sample - loss: 0.6473\n",
      "Epoch 63/1000\n",
      "898/898 [==============================] - 0s 6us/sample - loss: 0.6450\n",
      "Epoch 64/1000\n",
      "898/898 [==============================] - 0s 6us/sample - loss: 0.6427\n",
      "Epoch 65/1000\n",
      "898/898 [==============================] - 0s 6us/sample - loss: 0.6404\n",
      "Epoch 66/1000\n",
      "898/898 [==============================] - 0s 6us/sample - loss: 0.6381\n",
      "Epoch 67/1000\n",
      "898/898 [==============================] - 0s 6us/sample - loss: 0.6359\n",
      "Epoch 68/1000\n",
      "898/898 [==============================] - 0s 8us/sample - loss: 0.6337\n",
      "Epoch 69/1000\n",
      "898/898 [==============================] - 0s 7us/sample - loss: 0.6314\n",
      "Epoch 70/1000\n",
      "898/898 [==============================] - 0s 8us/sample - loss: 0.6292\n",
      "Epoch 71/1000\n",
      "898/898 [==============================] - 0s 7us/sample - loss: 0.6271\n",
      "Epoch 72/1000\n",
      "898/898 [==============================] - 0s 7us/sample - loss: 0.6249\n",
      "Epoch 73/1000\n",
      "898/898 [==============================] - 0s 8us/sample - loss: 0.6228\n",
      "Epoch 74/1000\n",
      "898/898 [==============================] - 0s 7us/sample - loss: 0.6206\n",
      "Epoch 75/1000\n",
      "898/898 [==============================] - 0s 7us/sample - loss: 0.6185\n",
      "Epoch 76/1000\n",
      "898/898 [==============================] - 0s 7us/sample - loss: 0.6164\n",
      "Epoch 77/1000\n",
      "898/898 [==============================] - 0s 7us/sample - loss: 0.6143\n",
      "Epoch 78/1000\n",
      "898/898 [==============================] - 0s 7us/sample - loss: 0.6123\n",
      "Epoch 79/1000\n",
      "898/898 [==============================] - 0s 7us/sample - loss: 0.6102\n",
      "Epoch 80/1000\n",
      "898/898 [==============================] - 0s 7us/sample - loss: 0.6082\n",
      "Epoch 81/1000\n",
      "898/898 [==============================] - 0s 7us/sample - loss: 0.6062\n",
      "Epoch 82/1000\n",
      "898/898 [==============================] - 0s 7us/sample - loss: 0.6042\n",
      "Epoch 83/1000\n",
      "898/898 [==============================] - 0s 7us/sample - loss: 0.6022\n",
      "Epoch 84/1000\n",
      "898/898 [==============================] - 0s 6us/sample - loss: 0.6003\n",
      "Epoch 85/1000\n",
      "898/898 [==============================] - 0s 6us/sample - loss: 0.5983\n",
      "Epoch 86/1000\n",
      "898/898 [==============================] - 0s 7us/sample - loss: 0.5964\n",
      "Epoch 87/1000\n",
      "898/898 [==============================] - 0s 8us/sample - loss: 0.5945\n",
      "Epoch 88/1000\n",
      "898/898 [==============================] - 0s 8us/sample - loss: 0.5926\n",
      "Epoch 89/1000\n",
      "898/898 [==============================] - 0s 7us/sample - loss: 0.5907\n",
      "Epoch 90/1000\n",
      "898/898 [==============================] - 0s 6us/sample - loss: 0.5888\n",
      "Epoch 91/1000\n",
      "898/898 [==============================] - 0s 6us/sample - loss: 0.5870\n",
      "Epoch 92/1000\n",
      "898/898 [==============================] - 0s 7us/sample - loss: 0.5851\n",
      "Epoch 93/1000\n",
      "898/898 [==============================] - 0s 4us/sample - loss: 0.5833\n",
      "Epoch 94/1000\n",
      "898/898 [==============================] - 0s 8us/sample - loss: 0.5815\n",
      "Epoch 95/1000\n",
      "898/898 [==============================] - 0s 4us/sample - loss: 0.5797\n",
      "Epoch 96/1000\n"
     ]
    },
    {
     "name": "stdout",
     "output_type": "stream",
     "text": [
      "898/898 [==============================] - 0s 9us/sample - loss: 0.5779\n",
      "Epoch 97/1000\n",
      "898/898 [==============================] - 0s 4us/sample - loss: 0.5762\n",
      "Epoch 98/1000\n",
      "898/898 [==============================] - 0s 6us/sample - loss: 0.5744\n",
      "Epoch 99/1000\n",
      "898/898 [==============================] - 0s 4us/sample - loss: 0.5727\n",
      "Epoch 100/1000\n",
      "898/898 [==============================] - 0s 7us/sample - loss: 0.5710\n",
      "Epoch 101/1000\n",
      "898/898 [==============================] - 0s 6us/sample - loss: 0.5693\n",
      "Epoch 102/1000\n",
      "898/898 [==============================] - 0s 6us/sample - loss: 0.5676\n",
      "Epoch 103/1000\n",
      "898/898 [==============================] - 0s 4us/sample - loss: 0.5659\n",
      "Epoch 104/1000\n",
      "898/898 [==============================] - 0s 6us/sample - loss: 0.5642\n",
      "Epoch 105/1000\n",
      "898/898 [==============================] - 0s 6us/sample - loss: 0.5626\n",
      "Epoch 106/1000\n",
      "898/898 [==============================] - 0s 7us/sample - loss: 0.5610\n",
      "Epoch 107/1000\n",
      "898/898 [==============================] - 0s 6us/sample - loss: 0.5593\n",
      "Epoch 108/1000\n",
      "898/898 [==============================] - 0s 4us/sample - loss: 0.5577\n",
      "Epoch 109/1000\n",
      "898/898 [==============================] - 0s 6us/sample - loss: 0.5561\n",
      "Epoch 110/1000\n",
      "898/898 [==============================] - 0s 4us/sample - loss: 0.5546\n",
      "Epoch 111/1000\n",
      "898/898 [==============================] - 0s 6us/sample - loss: 0.5530\n",
      "Epoch 112/1000\n",
      "898/898 [==============================] - 0s 7us/sample - loss: 0.5514\n",
      "Epoch 113/1000\n",
      "898/898 [==============================] - 0s 4us/sample - loss: 0.5499\n",
      "Epoch 114/1000\n",
      "898/898 [==============================] - 0s 6us/sample - loss: 0.5484\n",
      "Epoch 115/1000\n",
      "898/898 [==============================] - 0s 6us/sample - loss: 0.5469\n",
      "Epoch 116/1000\n",
      "898/898 [==============================] - 0s 6us/sample - loss: 0.5454\n",
      "Epoch 117/1000\n",
      "898/898 [==============================] - 0s 6us/sample - loss: 0.5439\n",
      "Epoch 118/1000\n",
      "898/898 [==============================] - 0s 4us/sample - loss: 0.5424\n",
      "Epoch 119/1000\n",
      "898/898 [==============================] - 0s 6us/sample - loss: 0.5409\n",
      "Epoch 120/1000\n",
      "898/898 [==============================] - 0s 4us/sample - loss: 0.5395\n",
      "Epoch 121/1000\n",
      "898/898 [==============================] - 0s 6us/sample - loss: 0.5381\n",
      "Epoch 122/1000\n",
      "898/898 [==============================] - 0s 6us/sample - loss: 0.5366\n",
      "Epoch 123/1000\n",
      "898/898 [==============================] - 0s 6us/sample - loss: 0.5352\n",
      "Epoch 124/1000\n",
      "898/898 [==============================] - 0s 9us/sample - loss: 0.5338\n",
      "Epoch 125/1000\n",
      "898/898 [==============================] - 0s 6us/sample - loss: 0.5324\n",
      "Epoch 126/1000\n",
      "898/898 [==============================] - 0s 6us/sample - loss: 0.5310\n",
      "Epoch 127/1000\n",
      "898/898 [==============================] - 0s 6us/sample - loss: 0.5297\n",
      "Epoch 128/1000\n",
      "898/898 [==============================] - 0s 6us/sample - loss: 0.5283\n",
      "Epoch 129/1000\n",
      "898/898 [==============================] - 0s 7us/sample - loss: 0.5269\n",
      "Epoch 130/1000\n",
      "898/898 [==============================] - 0s 4us/sample - loss: 0.5256\n",
      "Epoch 131/1000\n",
      "898/898 [==============================] - 0s 4us/sample - loss: 0.5243\n",
      "Epoch 132/1000\n",
      "898/898 [==============================] - 0s 4us/sample - loss: 0.5229\n",
      "Epoch 133/1000\n",
      "898/898 [==============================] - 0s 4us/sample - loss: 0.5216\n",
      "Epoch 134/1000\n",
      "898/898 [==============================] - 0s 7us/sample - loss: 0.5203\n",
      "Epoch 135/1000\n",
      "898/898 [==============================] - 0s 4us/sample - loss: 0.5190\n",
      "Epoch 136/1000\n",
      "898/898 [==============================] - 0s 4us/sample - loss: 0.5178\n",
      "Epoch 137/1000\n",
      "898/898 [==============================] - 0s 4us/sample - loss: 0.5165\n",
      "Epoch 138/1000\n",
      "898/898 [==============================] - 0s 6us/sample - loss: 0.5152\n",
      "Epoch 139/1000\n",
      "898/898 [==============================] - 0s 6us/sample - loss: 0.5140\n",
      "Epoch 140/1000\n",
      "898/898 [==============================] - 0s 4us/sample - loss: 0.5127\n",
      "Epoch 141/1000\n",
      "898/898 [==============================] - 0s 4us/sample - loss: 0.5115\n",
      "Epoch 142/1000\n",
      "898/898 [==============================] - 0s 6us/sample - loss: 0.5103\n",
      "Epoch 143/1000\n",
      "898/898 [==============================] - 0s 7us/sample - loss: 0.5090\n",
      "Epoch 144/1000\n",
      "898/898 [==============================] - 0s 6us/sample - loss: 0.5078\n",
      "Epoch 145/1000\n",
      "898/898 [==============================] - 0s 4us/sample - loss: 0.5066\n",
      "Epoch 146/1000\n",
      "898/898 [==============================] - 0s 6us/sample - loss: 0.5054\n",
      "Epoch 147/1000\n",
      "898/898 [==============================] - 0s 4us/sample - loss: 0.5042\n",
      "Epoch 148/1000\n",
      "898/898 [==============================] - 0s 6us/sample - loss: 0.5031\n",
      "Epoch 149/1000\n",
      "898/898 [==============================] - 0s 6us/sample - loss: 0.5019\n",
      "Epoch 150/1000\n",
      "898/898 [==============================] - 0s 4us/sample - loss: 0.5007\n",
      "Epoch 151/1000\n",
      "898/898 [==============================] - 0s 6us/sample - loss: 0.4996\n",
      "Epoch 152/1000\n",
      "898/898 [==============================] - 0s 6us/sample - loss: 0.4984\n",
      "Epoch 153/1000\n",
      "898/898 [==============================] - 0s 6us/sample - loss: 0.4973\n",
      "Epoch 154/1000\n",
      "898/898 [==============================] - 0s 6us/sample - loss: 0.4962\n",
      "Epoch 155/1000\n",
      "898/898 [==============================] - 0s 6us/sample - loss: 0.4950\n",
      "Epoch 156/1000\n",
      "898/898 [==============================] - 0s 6us/sample - loss: 0.4939\n",
      "Epoch 157/1000\n",
      "898/898 [==============================] - 0s 7us/sample - loss: 0.4928\n",
      "Epoch 158/1000\n",
      "898/898 [==============================] - 0s 4us/sample - loss: 0.4917\n",
      "Epoch 159/1000\n",
      "898/898 [==============================] - 0s 4us/sample - loss: 0.4906\n",
      "Epoch 160/1000\n",
      "898/898 [==============================] - 0s 4us/sample - loss: 0.4895\n",
      "Epoch 161/1000\n",
      "898/898 [==============================] - 0s 6us/sample - loss: 0.4884\n",
      "Epoch 162/1000\n",
      "898/898 [==============================] - 0s 6us/sample - loss: 0.4873\n",
      "Epoch 163/1000\n",
      "898/898 [==============================] - 0s 4us/sample - loss: 0.4862\n",
      "Epoch 164/1000\n",
      "898/898 [==============================] - 0s 4us/sample - loss: 0.4852\n",
      "Epoch 165/1000\n",
      "898/898 [==============================] - 0s 6us/sample - loss: 0.4841\n",
      "Epoch 166/1000\n",
      "898/898 [==============================] - 0s 4us/sample - loss: 0.4830\n",
      "Epoch 167/1000\n",
      "898/898 [==============================] - 0s 4us/sample - loss: 0.4820\n",
      "Epoch 168/1000\n",
      "898/898 [==============================] - 0s 6us/sample - loss: 0.4809\n",
      "Epoch 169/1000\n",
      "898/898 [==============================] - 0s 4us/sample - loss: 0.4799\n",
      "Epoch 170/1000\n",
      "898/898 [==============================] - 0s 6us/sample - loss: 0.4788\n",
      "Epoch 171/1000\n",
      "898/898 [==============================] - 0s 6us/sample - loss: 0.4778\n",
      "Epoch 172/1000\n",
      "898/898 [==============================] - 0s 4us/sample - loss: 0.4768\n",
      "Epoch 173/1000\n",
      "898/898 [==============================] - 0s 6us/sample - loss: 0.4758\n",
      "Epoch 174/1000\n",
      "898/898 [==============================] - 0s 6us/sample - loss: 0.4748\n",
      "Epoch 175/1000\n",
      "898/898 [==============================] - 0s 4us/sample - loss: 0.4737\n",
      "Epoch 176/1000\n",
      "898/898 [==============================] - 0s 4us/sample - loss: 0.4728\n",
      "Epoch 177/1000\n",
      "898/898 [==============================] - 0s 6us/sample - loss: 0.4718\n",
      "Epoch 178/1000\n",
      "898/898 [==============================] - 0s 4us/sample - loss: 0.4708\n",
      "Epoch 179/1000\n",
      "898/898 [==============================] - 0s 6us/sample - loss: 0.4698\n",
      "Epoch 180/1000\n",
      "898/898 [==============================] - 0s 4us/sample - loss: 0.4688\n",
      "Epoch 181/1000\n",
      "898/898 [==============================] - 0s 4us/sample - loss: 0.4679\n",
      "Epoch 182/1000\n",
      "898/898 [==============================] - 0s 6us/sample - loss: 0.4669\n",
      "Epoch 183/1000\n",
      "898/898 [==============================] - 0s 6us/sample - loss: 0.4660\n",
      "Epoch 184/1000\n",
      "898/898 [==============================] - 0s 4us/sample - loss: 0.4650\n",
      "Epoch 185/1000\n",
      "898/898 [==============================] - 0s 4us/sample - loss: 0.4641\n",
      "Epoch 186/1000\n",
      "898/898 [==============================] - 0s 4us/sample - loss: 0.4632\n",
      "Epoch 187/1000\n",
      "898/898 [==============================] - 0s 4us/sample - loss: 0.4623\n",
      "Epoch 188/1000\n",
      "898/898 [==============================] - 0s 4us/sample - loss: 0.4614\n",
      "Epoch 189/1000\n",
      "898/898 [==============================] - 0s 4us/sample - loss: 0.4605\n",
      "Epoch 190/1000\n",
      "898/898 [==============================] - 0s 7us/sample - loss: 0.4596\n"
     ]
    },
    {
     "name": "stdout",
     "output_type": "stream",
     "text": [
      "Epoch 191/1000\n",
      "898/898 [==============================] - 0s 6us/sample - loss: 0.4587\n",
      "Epoch 192/1000\n",
      "898/898 [==============================] - 0s 4us/sample - loss: 0.4579\n",
      "Epoch 193/1000\n",
      "898/898 [==============================] - 0s 6us/sample - loss: 0.4570\n",
      "Epoch 194/1000\n",
      "898/898 [==============================] - 0s 4us/sample - loss: 0.4561\n",
      "Epoch 195/1000\n",
      "898/898 [==============================] - 0s 6us/sample - loss: 0.4553\n",
      "Epoch 196/1000\n",
      "898/898 [==============================] - 0s 6us/sample - loss: 0.4544\n",
      "Epoch 197/1000\n",
      "898/898 [==============================] - 0s 7us/sample - loss: 0.4536\n",
      "Epoch 198/1000\n",
      "898/898 [==============================] - 0s 4us/sample - loss: 0.4527\n",
      "Epoch 199/1000\n",
      "898/898 [==============================] - 0s 6us/sample - loss: 0.4519\n",
      "Epoch 200/1000\n",
      "898/898 [==============================] - 0s 4us/sample - loss: 0.4510\n",
      "Epoch 201/1000\n",
      "898/898 [==============================] - 0s 8us/sample - loss: 0.4502\n",
      "Epoch 202/1000\n",
      "898/898 [==============================] - 0s 4us/sample - loss: 0.4494\n",
      "Epoch 203/1000\n",
      "898/898 [==============================] - 0s 6us/sample - loss: 0.4485\n",
      "Epoch 204/1000\n",
      "898/898 [==============================] - 0s 7us/sample - loss: 0.4477\n",
      "Epoch 205/1000\n",
      "898/898 [==============================] - 0s 6us/sample - loss: 0.4469\n",
      "Epoch 206/1000\n",
      "898/898 [==============================] - 0s 7us/sample - loss: 0.4461\n",
      "Epoch 207/1000\n",
      "898/898 [==============================] - 0s 7us/sample - loss: 0.4453\n",
      "Epoch 208/1000\n",
      "898/898 [==============================] - 0s 7us/sample - loss: 0.4444\n",
      "Epoch 209/1000\n",
      "898/898 [==============================] - 0s 6us/sample - loss: 0.4436\n",
      "Epoch 210/1000\n",
      "898/898 [==============================] - 0s 7us/sample - loss: 0.4428\n",
      "Epoch 211/1000\n",
      "898/898 [==============================] - 0s 4us/sample - loss: 0.4420\n",
      "Epoch 212/1000\n",
      "898/898 [==============================] - 0s 8us/sample - loss: 0.4412\n",
      "Epoch 213/1000\n",
      "898/898 [==============================] - 0s 6us/sample - loss: 0.4404\n",
      "Epoch 214/1000\n",
      "898/898 [==============================] - 0s 7us/sample - loss: 0.4396\n",
      "Epoch 215/1000\n",
      "898/898 [==============================] - 0s 6us/sample - loss: 0.4388\n",
      "Epoch 216/1000\n",
      "898/898 [==============================] - 0s 4us/sample - loss: 0.4380\n",
      "Epoch 217/1000\n",
      "898/898 [==============================] - 0s 7us/sample - loss: 0.4373\n",
      "Epoch 218/1000\n",
      "898/898 [==============================] - 0s 6us/sample - loss: 0.4365\n",
      "Epoch 219/1000\n",
      "898/898 [==============================] - 0s 6us/sample - loss: 0.4357\n",
      "Epoch 220/1000\n",
      "898/898 [==============================] - 0s 4us/sample - loss: 0.4349\n",
      "Epoch 221/1000\n",
      "898/898 [==============================] - 0s 7us/sample - loss: 0.4341\n",
      "Epoch 222/1000\n",
      "898/898 [==============================] - 0s 6us/sample - loss: 0.4334\n",
      "Epoch 223/1000\n",
      "898/898 [==============================] - 0s 6us/sample - loss: 0.4326\n",
      "Epoch 224/1000\n",
      "898/898 [==============================] - 0s 6us/sample - loss: 0.4318\n",
      "Epoch 225/1000\n",
      "898/898 [==============================] - 0s 7us/sample - loss: 0.4310\n",
      "Epoch 226/1000\n",
      "898/898 [==============================] - 0s 7us/sample - loss: 0.4303\n",
      "Epoch 227/1000\n",
      "898/898 [==============================] - 0s 7us/sample - loss: 0.4295\n",
      "Epoch 228/1000\n",
      "898/898 [==============================] - 0s 8us/sample - loss: 0.4287\n",
      "Epoch 229/1000\n",
      "898/898 [==============================] - 0s 7us/sample - loss: 0.4280\n",
      "Epoch 230/1000\n",
      "898/898 [==============================] - 0s 6us/sample - loss: 0.4272\n",
      "Epoch 231/1000\n",
      "898/898 [==============================] - 0s 7us/sample - loss: 0.4265\n",
      "Epoch 232/1000\n",
      "898/898 [==============================] - 0s 7us/sample - loss: 0.4257\n",
      "Epoch 233/1000\n",
      "898/898 [==============================] - 0s 7us/sample - loss: 0.4250\n",
      "Epoch 234/1000\n",
      "898/898 [==============================] - 0s 4us/sample - loss: 0.4242\n",
      "Epoch 235/1000\n",
      "898/898 [==============================] - 0s 7us/sample - loss: 0.4235\n",
      "Epoch 236/1000\n",
      "898/898 [==============================] - 0s 4us/sample - loss: 0.4227\n",
      "Epoch 237/1000\n",
      "898/898 [==============================] - 0s 8us/sample - loss: 0.4220\n",
      "Epoch 238/1000\n",
      "898/898 [==============================] - 0s 4us/sample - loss: 0.4213\n",
      "Epoch 239/1000\n",
      "898/898 [==============================] - 0s 7us/sample - loss: 0.4205\n",
      "Epoch 240/1000\n",
      "898/898 [==============================] - 0s 4us/sample - loss: 0.4198\n",
      "Epoch 241/1000\n",
      "898/898 [==============================] - 0s 6us/sample - loss: 0.4190\n",
      "Epoch 242/1000\n",
      "898/898 [==============================] - 0s 4us/sample - loss: 0.4183\n",
      "Epoch 243/1000\n",
      "898/898 [==============================] - 0s 4us/sample - loss: 0.4176\n",
      "Epoch 244/1000\n",
      "898/898 [==============================] - 0s 7us/sample - loss: 0.4169\n",
      "Epoch 245/1000\n",
      "898/898 [==============================] - 0s 6us/sample - loss: 0.4161\n",
      "Epoch 246/1000\n",
      "898/898 [==============================] - 0s 4us/sample - loss: 0.4154\n",
      "Epoch 247/1000\n",
      "898/898 [==============================] - 0s 6us/sample - loss: 0.4147\n",
      "Epoch 248/1000\n",
      "898/898 [==============================] - 0s 6us/sample - loss: 0.4140\n",
      "Epoch 249/1000\n",
      "898/898 [==============================] - 0s 4us/sample - loss: 0.4133\n",
      "Epoch 250/1000\n",
      "898/898 [==============================] - 0s 4us/sample - loss: 0.4126\n",
      "Epoch 251/1000\n",
      "898/898 [==============================] - 0s 4us/sample - loss: 0.4118\n",
      "Epoch 252/1000\n",
      "898/898 [==============================] - 0s 6us/sample - loss: 0.4111\n",
      "Epoch 253/1000\n",
      "898/898 [==============================] - 0s 4us/sample - loss: 0.4104\n",
      "Epoch 254/1000\n",
      "898/898 [==============================] - 0s 4us/sample - loss: 0.4097\n",
      "Epoch 255/1000\n",
      "898/898 [==============================] - 0s 6us/sample - loss: 0.4090\n",
      "Epoch 256/1000\n",
      "898/898 [==============================] - 0s 7us/sample - loss: 0.4083\n",
      "Epoch 257/1000\n",
      "898/898 [==============================] - 0s 6us/sample - loss: 0.4076\n",
      "Epoch 258/1000\n",
      "898/898 [==============================] - 0s 6us/sample - loss: 0.4069\n",
      "Epoch 259/1000\n",
      "898/898 [==============================] - 0s 4us/sample - loss: 0.4063\n",
      "Epoch 260/1000\n",
      "898/898 [==============================] - 0s 6us/sample - loss: 0.4056\n",
      "Epoch 261/1000\n",
      "898/898 [==============================] - 0s 6us/sample - loss: 0.4049\n",
      "Epoch 262/1000\n",
      "898/898 [==============================] - 0s 6us/sample - loss: 0.4042\n",
      "Epoch 263/1000\n",
      "898/898 [==============================] - 0s 4us/sample - loss: 0.4035\n",
      "Epoch 264/1000\n",
      "898/898 [==============================] - 0s 4us/sample - loss: 0.4028\n",
      "Epoch 265/1000\n",
      "898/898 [==============================] - 0s 6us/sample - loss: 0.4021\n",
      "Epoch 266/1000\n",
      "898/898 [==============================] - 0s 7us/sample - loss: 0.4015\n",
      "Epoch 267/1000\n",
      "898/898 [==============================] - 0s 4us/sample - loss: 0.4008\n",
      "Epoch 268/1000\n",
      "898/898 [==============================] - 0s 7us/sample - loss: 0.4001\n",
      "Epoch 269/1000\n",
      "898/898 [==============================] - 0s 4us/sample - loss: 0.3994\n",
      "Epoch 270/1000\n",
      "898/898 [==============================] - 0s 7us/sample - loss: 0.3988\n",
      "Epoch 271/1000\n",
      "898/898 [==============================] - 0s 4us/sample - loss: 0.3981\n",
      "Epoch 272/1000\n",
      "898/898 [==============================] - 0s 4us/sample - loss: 0.3974\n",
      "Epoch 273/1000\n",
      "898/898 [==============================] - 0s 7us/sample - loss: 0.3968\n",
      "Epoch 274/1000\n",
      "898/898 [==============================] - 0s 6us/sample - loss: 0.3961\n",
      "Epoch 275/1000\n",
      "898/898 [==============================] - 0s 8us/sample - loss: 0.3955\n",
      "Epoch 276/1000\n",
      "898/898 [==============================] - 0s 4us/sample - loss: 0.3948\n",
      "Epoch 277/1000\n",
      "898/898 [==============================] - 0s 6us/sample - loss: 0.3941\n",
      "Epoch 278/1000\n",
      "898/898 [==============================] - 0s 6us/sample - loss: 0.3935\n",
      "Epoch 279/1000\n",
      "898/898 [==============================] - 0s 6us/sample - loss: 0.3928\n",
      "Epoch 280/1000\n",
      "898/898 [==============================] - 0s 6us/sample - loss: 0.3922\n",
      "Epoch 281/1000\n",
      "898/898 [==============================] - 0s 6us/sample - loss: 0.3915\n",
      "Epoch 282/1000\n",
      "898/898 [==============================] - 0s 7us/sample - loss: 0.3909\n",
      "Epoch 283/1000\n",
      "898/898 [==============================] - 0s 4us/sample - loss: 0.3903\n",
      "Epoch 284/1000\n",
      "898/898 [==============================] - 0s 6us/sample - loss: 0.3896\n",
      "Epoch 285/1000\n",
      "898/898 [==============================] - 0s 6us/sample - loss: 0.3890\n"
     ]
    },
    {
     "name": "stdout",
     "output_type": "stream",
     "text": [
      "Epoch 286/1000\n",
      "898/898 [==============================] - 0s 6us/sample - loss: 0.3883\n",
      "Epoch 287/1000\n",
      "898/898 [==============================] - 0s 6us/sample - loss: 0.3877\n",
      "Epoch 288/1000\n",
      "898/898 [==============================] - 0s 6us/sample - loss: 0.3871\n",
      "Epoch 289/1000\n",
      "898/898 [==============================] - 0s 7us/sample - loss: 0.3864\n",
      "Epoch 290/1000\n",
      "898/898 [==============================] - 0s 6us/sample - loss: 0.3858\n",
      "Epoch 291/1000\n",
      "898/898 [==============================] - 0s 4us/sample - loss: 0.3852\n",
      "Epoch 292/1000\n",
      "898/898 [==============================] - 0s 7us/sample - loss: 0.3846\n",
      "Epoch 293/1000\n",
      "898/898 [==============================] - 0s 4us/sample - loss: 0.3839\n",
      "Epoch 294/1000\n",
      "898/898 [==============================] - 0s 7us/sample - loss: 0.3833\n",
      "Epoch 295/1000\n",
      "898/898 [==============================] - 0s 7us/sample - loss: 0.3827\n",
      "Epoch 296/1000\n",
      "898/898 [==============================] - 0s 7us/sample - loss: 0.3821\n",
      "Epoch 297/1000\n",
      "898/898 [==============================] - 0s 7us/sample - loss: 0.3815\n",
      "Epoch 298/1000\n",
      "898/898 [==============================] - 0s 6us/sample - loss: 0.3809\n",
      "Epoch 299/1000\n",
      "898/898 [==============================] - 0s 8us/sample - loss: 0.3802\n",
      "Epoch 300/1000\n",
      "898/898 [==============================] - 0s 4us/sample - loss: 0.3796\n",
      "Epoch 301/1000\n",
      "898/898 [==============================] - 0s 6us/sample - loss: 0.3790\n",
      "Epoch 302/1000\n",
      "898/898 [==============================] - 0s 6us/sample - loss: 0.3784\n",
      "Epoch 303/1000\n",
      "898/898 [==============================] - 0s 8us/sample - loss: 0.3778\n",
      "Epoch 304/1000\n",
      "898/898 [==============================] - 0s 6us/sample - loss: 0.3772\n",
      "Epoch 305/1000\n",
      "898/898 [==============================] - 0s 7us/sample - loss: 0.3766\n",
      "Epoch 306/1000\n",
      "898/898 [==============================] - 0s 6us/sample - loss: 0.3760\n",
      "Epoch 307/1000\n",
      "898/898 [==============================] - 0s 4us/sample - loss: 0.3754\n",
      "Epoch 308/1000\n",
      "898/898 [==============================] - 0s 4us/sample - loss: 0.3748\n",
      "Epoch 309/1000\n",
      "898/898 [==============================] - 0s 4us/sample - loss: 0.3742\n",
      "Epoch 310/1000\n",
      "898/898 [==============================] - 0s 8us/sample - loss: 0.3736\n",
      "Epoch 311/1000\n",
      "898/898 [==============================] - 0s 6us/sample - loss: 0.3731\n",
      "Epoch 312/1000\n",
      "898/898 [==============================] - 0s 8us/sample - loss: 0.3725\n",
      "Epoch 313/1000\n",
      "898/898 [==============================] - 0s 4us/sample - loss: 0.3719\n",
      "Epoch 314/1000\n",
      "898/898 [==============================] - 0s 6us/sample - loss: 0.3713\n",
      "Epoch 315/1000\n",
      "898/898 [==============================] - 0s 4us/sample - loss: 0.3707\n",
      "Epoch 316/1000\n",
      "898/898 [==============================] - 0s 4us/sample - loss: 0.3701\n",
      "Epoch 317/1000\n",
      "898/898 [==============================] - 0s 6us/sample - loss: 0.3696\n",
      "Epoch 318/1000\n",
      "898/898 [==============================] - 0s 6us/sample - loss: 0.3690\n",
      "Epoch 319/1000\n",
      "898/898 [==============================] - 0s 6us/sample - loss: 0.3684\n",
      "Epoch 320/1000\n",
      "898/898 [==============================] - 0s 4us/sample - loss: 0.3678\n",
      "Epoch 321/1000\n",
      "898/898 [==============================] - 0s 4us/sample - loss: 0.3673\n",
      "Epoch 322/1000\n",
      "898/898 [==============================] - 0s 7us/sample - loss: 0.3667\n",
      "Epoch 323/1000\n",
      "898/898 [==============================] - 0s 6us/sample - loss: 0.3661\n",
      "Epoch 324/1000\n",
      "898/898 [==============================] - 0s 6us/sample - loss: 0.3656\n",
      "Epoch 325/1000\n",
      "898/898 [==============================] - 0s 4us/sample - loss: 0.3650\n",
      "Epoch 326/1000\n",
      "898/898 [==============================] - 0s 4us/sample - loss: 0.3644\n",
      "Epoch 327/1000\n",
      "898/898 [==============================] - 0s 6us/sample - loss: 0.3639\n",
      "Epoch 328/1000\n",
      "898/898 [==============================] - 0s 6us/sample - loss: 0.3633\n",
      "Epoch 329/1000\n",
      "898/898 [==============================] - 0s 6us/sample - loss: 0.3627\n",
      "Epoch 330/1000\n",
      "898/898 [==============================] - 0s 6us/sample - loss: 0.3622\n",
      "Epoch 331/1000\n",
      "898/898 [==============================] - 0s 6us/sample - loss: 0.3616\n",
      "Epoch 332/1000\n",
      "898/898 [==============================] - 0s 4us/sample - loss: 0.3611\n",
      "Epoch 333/1000\n",
      "898/898 [==============================] - 0s 4us/sample - loss: 0.3605\n",
      "Epoch 334/1000\n",
      "898/898 [==============================] - 0s 4us/sample - loss: 0.3600\n",
      "Epoch 335/1000\n",
      "898/898 [==============================] - 0s 4us/sample - loss: 0.3594\n",
      "Epoch 336/1000\n",
      "898/898 [==============================] - 0s 6us/sample - loss: 0.3589\n",
      "Epoch 337/1000\n",
      "898/898 [==============================] - 0s 6us/sample - loss: 0.3583\n",
      "Epoch 338/1000\n",
      "898/898 [==============================] - 0s 6us/sample - loss: 0.3578\n",
      "Epoch 339/1000\n",
      "898/898 [==============================] - 0s 4us/sample - loss: 0.3572\n",
      "Epoch 340/1000\n",
      "898/898 [==============================] - 0s 6us/sample - loss: 0.3567\n",
      "Epoch 341/1000\n",
      "898/898 [==============================] - 0s 6us/sample - loss: 0.3562\n",
      "Epoch 342/1000\n",
      "898/898 [==============================] - 0s 6us/sample - loss: 0.3556\n",
      "Epoch 343/1000\n",
      "898/898 [==============================] - 0s 4us/sample - loss: 0.3551\n",
      "Epoch 344/1000\n",
      "898/898 [==============================] - 0s 4us/sample - loss: 0.3545\n",
      "Epoch 345/1000\n",
      "898/898 [==============================] - 0s 6us/sample - loss: 0.3540\n",
      "Epoch 346/1000\n",
      "898/898 [==============================] - 0s 6us/sample - loss: 0.3535\n",
      "Epoch 347/1000\n",
      "898/898 [==============================] - 0s 4us/sample - loss: 0.3529\n",
      "Epoch 348/1000\n",
      "898/898 [==============================] - 0s 4us/sample - loss: 0.3524\n",
      "Epoch 349/1000\n",
      "898/898 [==============================] - 0s 6us/sample - loss: 0.3519\n",
      "Epoch 350/1000\n",
      "898/898 [==============================] - 0s 6us/sample - loss: 0.3514\n",
      "Epoch 351/1000\n",
      "898/898 [==============================] - 0s 4us/sample - loss: 0.3508\n",
      "Epoch 352/1000\n",
      "898/898 [==============================] - 0s 6us/sample - loss: 0.3503\n",
      "Epoch 353/1000\n",
      "898/898 [==============================] - 0s 4us/sample - loss: 0.3498\n",
      "Epoch 354/1000\n",
      "898/898 [==============================] - 0s 6us/sample - loss: 0.3493\n",
      "Epoch 355/1000\n",
      "898/898 [==============================] - 0s 6us/sample - loss: 0.3487\n",
      "Epoch 356/1000\n",
      "898/898 [==============================] - 0s 4us/sample - loss: 0.3482\n",
      "Epoch 357/1000\n",
      "898/898 [==============================] - 0s 6us/sample - loss: 0.3477\n",
      "Epoch 358/1000\n",
      "898/898 [==============================] - 0s 4us/sample - loss: 0.3472\n",
      "Epoch 359/1000\n",
      "898/898 [==============================] - 0s 6us/sample - loss: 0.3467\n",
      "Epoch 360/1000\n",
      "898/898 [==============================] - 0s 6us/sample - loss: 0.3462\n",
      "Epoch 361/1000\n",
      "898/898 [==============================] - 0s 4us/sample - loss: 0.3457\n",
      "Epoch 362/1000\n",
      "898/898 [==============================] - 0s 6us/sample - loss: 0.3452\n",
      "Epoch 363/1000\n",
      "898/898 [==============================] - 0s 6us/sample - loss: 0.3446\n",
      "Epoch 364/1000\n",
      "898/898 [==============================] - 0s 6us/sample - loss: 0.3441\n",
      "Epoch 365/1000\n",
      "898/898 [==============================] - 0s 6us/sample - loss: 0.3436\n",
      "Epoch 366/1000\n",
      "898/898 [==============================] - 0s 4us/sample - loss: 0.3431\n",
      "Epoch 367/1000\n",
      "898/898 [==============================] - 0s 6us/sample - loss: 0.3426\n",
      "Epoch 368/1000\n",
      "898/898 [==============================] - 0s 6us/sample - loss: 0.3421\n",
      "Epoch 369/1000\n",
      "898/898 [==============================] - 0s 6us/sample - loss: 0.3416\n",
      "Epoch 370/1000\n",
      "898/898 [==============================] - 0s 6us/sample - loss: 0.3411\n",
      "Epoch 371/1000\n",
      "898/898 [==============================] - 0s 6us/sample - loss: 0.3406\n",
      "Epoch 372/1000\n",
      "898/898 [==============================] - 0s 4us/sample - loss: 0.3402\n",
      "Epoch 373/1000\n",
      "898/898 [==============================] - 0s 4us/sample - loss: 0.3397\n",
      "Epoch 374/1000\n",
      "898/898 [==============================] - 0s 6us/sample - loss: 0.3392\n",
      "Epoch 375/1000\n",
      "898/898 [==============================] - 0s 6us/sample - loss: 0.3387\n",
      "Epoch 376/1000\n",
      "898/898 [==============================] - 0s 6us/sample - loss: 0.3382\n",
      "Epoch 377/1000\n",
      "898/898 [==============================] - 0s 4us/sample - loss: 0.3377\n",
      "Epoch 378/1000\n",
      "898/898 [==============================] - 0s 4us/sample - loss: 0.3372\n",
      "Epoch 379/1000\n",
      "898/898 [==============================] - 0s 6us/sample - loss: 0.3367\n",
      "Epoch 380/1000\n"
     ]
    },
    {
     "name": "stdout",
     "output_type": "stream",
     "text": [
      "898/898 [==============================] - 0s 6us/sample - loss: 0.3363\n",
      "Epoch 381/1000\n",
      "898/898 [==============================] - 0s 6us/sample - loss: 0.3358\n",
      "Epoch 382/1000\n",
      "898/898 [==============================] - 0s 4us/sample - loss: 0.3353\n",
      "Epoch 383/1000\n",
      "898/898 [==============================] - 0s 4us/sample - loss: 0.3348\n",
      "Epoch 384/1000\n",
      "898/898 [==============================] - 0s 6us/sample - loss: 0.3343\n",
      "Epoch 385/1000\n",
      "898/898 [==============================] - 0s 6us/sample - loss: 0.3339\n",
      "Epoch 386/1000\n",
      "898/898 [==============================] - 0s 7us/sample - loss: 0.3334\n",
      "Epoch 387/1000\n",
      "898/898 [==============================] - 0s 4us/sample - loss: 0.3329\n",
      "Epoch 388/1000\n",
      "898/898 [==============================] - 0s 6us/sample - loss: 0.3325\n",
      "Epoch 389/1000\n",
      "898/898 [==============================] - 0s 4us/sample - loss: 0.3320\n",
      "Epoch 390/1000\n",
      "898/898 [==============================] - 0s 6us/sample - loss: 0.3315\n",
      "Epoch 391/1000\n",
      "898/898 [==============================] - 0s 4us/sample - loss: 0.3311\n",
      "Epoch 392/1000\n",
      "898/898 [==============================] - 0s 4us/sample - loss: 0.3306\n",
      "Epoch 393/1000\n",
      "898/898 [==============================] - 0s 6us/sample - loss: 0.3301\n",
      "Epoch 394/1000\n",
      "898/898 [==============================] - 0s 6us/sample - loss: 0.3297\n",
      "Epoch 395/1000\n",
      "898/898 [==============================] - 0s 4us/sample - loss: 0.3292\n",
      "Epoch 396/1000\n",
      "898/898 [==============================] - 0s 6us/sample - loss: 0.3287\n",
      "Epoch 397/1000\n",
      "898/898 [==============================] - 0s 6us/sample - loss: 0.3283\n",
      "Epoch 398/1000\n",
      "898/898 [==============================] - 0s 6us/sample - loss: 0.3278\n",
      "Epoch 399/1000\n",
      "898/898 [==============================] - 0s 4us/sample - loss: 0.3274\n",
      "Epoch 400/1000\n",
      "898/898 [==============================] - 0s 4us/sample - loss: 0.3269\n",
      "Epoch 401/1000\n",
      "898/898 [==============================] - 0s 6us/sample - loss: 0.3265\n",
      "Epoch 402/1000\n",
      "898/898 [==============================] - 0s 6us/sample - loss: 0.3260\n",
      "Epoch 403/1000\n",
      "898/898 [==============================] - 0s 6us/sample - loss: 0.3256\n",
      "Epoch 404/1000\n",
      "898/898 [==============================] - 0s 6us/sample - loss: 0.3251\n",
      "Epoch 405/1000\n",
      "898/898 [==============================] - 0s 4us/sample - loss: 0.3247\n",
      "Epoch 406/1000\n",
      "898/898 [==============================] - 0s 6us/sample - loss: 0.3242\n",
      "Epoch 407/1000\n",
      "898/898 [==============================] - 0s 4us/sample - loss: 0.3238\n",
      "Epoch 408/1000\n",
      "898/898 [==============================] - 0s 4us/sample - loss: 0.3233\n",
      "Epoch 409/1000\n",
      "898/898 [==============================] - 0s 4us/sample - loss: 0.3229\n",
      "Epoch 410/1000\n",
      "898/898 [==============================] - 0s 6us/sample - loss: 0.3225\n",
      "Epoch 411/1000\n",
      "898/898 [==============================] - 0s 4us/sample - loss: 0.3220\n",
      "Epoch 412/1000\n",
      "898/898 [==============================] - 0s 4us/sample - loss: 0.3216\n",
      "Epoch 413/1000\n",
      "898/898 [==============================] - 0s 6us/sample - loss: 0.3212\n",
      "Epoch 414/1000\n",
      "898/898 [==============================] - 0s 4us/sample - loss: 0.3207\n",
      "Epoch 415/1000\n",
      "898/898 [==============================] - 0s 4us/sample - loss: 0.3203\n",
      "Epoch 416/1000\n",
      "898/898 [==============================] - 0s 4us/sample - loss: 0.3199\n",
      "Epoch 417/1000\n",
      "898/898 [==============================] - 0s 4us/sample - loss: 0.3194\n",
      "Epoch 418/1000\n",
      "898/898 [==============================] - 0s 7us/sample - loss: 0.3190\n",
      "Epoch 419/1000\n",
      "898/898 [==============================] - 0s 6us/sample - loss: 0.3186\n",
      "Epoch 420/1000\n",
      "898/898 [==============================] - 0s 6us/sample - loss: 0.3182\n",
      "Epoch 421/1000\n",
      "898/898 [==============================] - 0s 6us/sample - loss: 0.3177\n",
      "Epoch 422/1000\n",
      "898/898 [==============================] - 0s 4us/sample - loss: 0.3173\n",
      "Epoch 423/1000\n",
      "898/898 [==============================] - 0s 4us/sample - loss: 0.3169\n",
      "Epoch 424/1000\n",
      "898/898 [==============================] - 0s 4us/sample - loss: 0.3165\n",
      "Epoch 425/1000\n",
      "898/898 [==============================] - 0s 4us/sample - loss: 0.3161\n",
      "Epoch 426/1000\n",
      "898/898 [==============================] - 0s 4us/sample - loss: 0.3156\n",
      "Epoch 427/1000\n",
      "898/898 [==============================] - 0s 4us/sample - loss: 0.3152\n",
      "Epoch 428/1000\n",
      "898/898 [==============================] - 0s 4us/sample - loss: 0.3148\n",
      "Epoch 429/1000\n",
      "898/898 [==============================] - 0s 4us/sample - loss: 0.3144\n",
      "Epoch 430/1000\n",
      "898/898 [==============================] - 0s 4us/sample - loss: 0.3140\n",
      "Epoch 431/1000\n",
      "898/898 [==============================] - 0s 4us/sample - loss: 0.3136\n",
      "Epoch 432/1000\n",
      "898/898 [==============================] - 0s 4us/sample - loss: 0.3132\n",
      "Epoch 433/1000\n",
      "898/898 [==============================] - 0s 4us/sample - loss: 0.3128\n",
      "Epoch 434/1000\n",
      "898/898 [==============================] - 0s 4us/sample - loss: 0.3123\n",
      "Epoch 435/1000\n",
      "898/898 [==============================] - 0s 4us/sample - loss: 0.3119\n",
      "Epoch 436/1000\n",
      "898/898 [==============================] - 0s 4us/sample - loss: 0.3115\n",
      "Epoch 437/1000\n",
      "898/898 [==============================] - 0s 4us/sample - loss: 0.3111\n",
      "Epoch 438/1000\n",
      "898/898 [==============================] - 0s 4us/sample - loss: 0.3107\n",
      "Epoch 439/1000\n",
      "898/898 [==============================] - 0s 6us/sample - loss: 0.3103\n",
      "Epoch 440/1000\n",
      "898/898 [==============================] - 0s 4us/sample - loss: 0.3099\n",
      "Epoch 441/1000\n",
      "898/898 [==============================] - 0s 4us/sample - loss: 0.3095\n",
      "Epoch 442/1000\n",
      "898/898 [==============================] - 0s 4us/sample - loss: 0.3091\n",
      "Epoch 443/1000\n",
      "898/898 [==============================] - 0s 4us/sample - loss: 0.3087\n",
      "Epoch 444/1000\n",
      "898/898 [==============================] - 0s 6us/sample - loss: 0.3083\n",
      "Epoch 445/1000\n",
      "898/898 [==============================] - 0s 6us/sample - loss: 0.3080\n",
      "Epoch 446/1000\n",
      "898/898 [==============================] - 0s 7us/sample - loss: 0.3076\n",
      "Epoch 447/1000\n",
      "898/898 [==============================] - 0s 6us/sample - loss: 0.3072\n",
      "Epoch 448/1000\n",
      "898/898 [==============================] - 0s 4us/sample - loss: 0.3068\n",
      "Epoch 449/1000\n",
      "898/898 [==============================] - 0s 4us/sample - loss: 0.3064\n",
      "Epoch 450/1000\n",
      "898/898 [==============================] - 0s 4us/sample - loss: 0.3060\n",
      "Epoch 451/1000\n",
      "898/898 [==============================] - 0s 4us/sample - loss: 0.3056\n",
      "Epoch 452/1000\n",
      "898/898 [==============================] - 0s 4us/sample - loss: 0.3052\n",
      "Epoch 453/1000\n",
      "898/898 [==============================] - 0s 4us/sample - loss: 0.3049\n",
      "Epoch 454/1000\n",
      "898/898 [==============================] - 0s 6us/sample - loss: 0.3045\n",
      "Epoch 455/1000\n",
      "898/898 [==============================] - 0s 6us/sample - loss: 0.3041\n",
      "Epoch 456/1000\n",
      "898/898 [==============================] - 0s 4us/sample - loss: 0.3037\n",
      "Epoch 457/1000\n",
      "898/898 [==============================] - 0s 6us/sample - loss: 0.3033\n",
      "Epoch 458/1000\n",
      "898/898 [==============================] - 0s 6us/sample - loss: 0.3030\n",
      "Epoch 459/1000\n",
      "898/898 [==============================] - 0s 6us/sample - loss: 0.3026\n",
      "Epoch 460/1000\n",
      "898/898 [==============================] - 0s 6us/sample - loss: 0.3022\n",
      "Epoch 461/1000\n",
      "898/898 [==============================] - 0s 4us/sample - loss: 0.3018\n",
      "Epoch 462/1000\n",
      "898/898 [==============================] - 0s 6us/sample - loss: 0.3015\n",
      "Epoch 463/1000\n",
      "898/898 [==============================] - 0s 6us/sample - loss: 0.3011\n",
      "Epoch 464/1000\n",
      "898/898 [==============================] - 0s 4us/sample - loss: 0.3007\n",
      "Epoch 465/1000\n",
      "898/898 [==============================] - 0s 4us/sample - loss: 0.3004\n",
      "Epoch 466/1000\n",
      "898/898 [==============================] - 0s 4us/sample - loss: 0.3000\n",
      "Epoch 467/1000\n",
      "898/898 [==============================] - 0s 6us/sample - loss: 0.2996\n",
      "Epoch 468/1000\n",
      "898/898 [==============================] - 0s 4us/sample - loss: 0.2993\n",
      "Epoch 469/1000\n",
      "898/898 [==============================] - 0s 4us/sample - loss: 0.2989\n",
      "Epoch 470/1000\n",
      "898/898 [==============================] - 0s 6us/sample - loss: 0.2985\n",
      "Epoch 471/1000\n",
      "898/898 [==============================] - 0s 6us/sample - loss: 0.2982\n",
      "Epoch 472/1000\n",
      "898/898 [==============================] - 0s 4us/sample - loss: 0.2978\n",
      "Epoch 473/1000\n",
      "898/898 [==============================] - 0s 4us/sample - loss: 0.2975\n",
      "Epoch 474/1000\n",
      "898/898 [==============================] - 0s 7us/sample - loss: 0.2971\n"
     ]
    },
    {
     "name": "stdout",
     "output_type": "stream",
     "text": [
      "Epoch 475/1000\n",
      "898/898 [==============================] - 0s 6us/sample - loss: 0.2967\n",
      "Epoch 476/1000\n",
      "898/898 [==============================] - 0s 4us/sample - loss: 0.2964\n",
      "Epoch 477/1000\n",
      "898/898 [==============================] - 0s 4us/sample - loss: 0.2960\n",
      "Epoch 478/1000\n",
      "898/898 [==============================] - 0s 4us/sample - loss: 0.2957\n",
      "Epoch 479/1000\n",
      "898/898 [==============================] - 0s 6us/sample - loss: 0.2953\n",
      "Epoch 480/1000\n",
      "898/898 [==============================] - 0s 4us/sample - loss: 0.2950\n",
      "Epoch 481/1000\n",
      "898/898 [==============================] - 0s 4us/sample - loss: 0.2946\n",
      "Epoch 482/1000\n",
      "898/898 [==============================] - 0s 6us/sample - loss: 0.2943\n",
      "Epoch 483/1000\n",
      "898/898 [==============================] - 0s 6us/sample - loss: 0.2939\n",
      "Epoch 484/1000\n",
      "898/898 [==============================] - 0s 4us/sample - loss: 0.2936\n",
      "Epoch 485/1000\n",
      "898/898 [==============================] - 0s 6us/sample - loss: 0.2932\n",
      "Epoch 486/1000\n",
      "898/898 [==============================] - 0s 4us/sample - loss: 0.2929\n",
      "Epoch 487/1000\n",
      "898/898 [==============================] - 0s 4us/sample - loss: 0.2925\n",
      "Epoch 488/1000\n",
      "898/898 [==============================] - 0s 4us/sample - loss: 0.2922\n",
      "Epoch 489/1000\n",
      "898/898 [==============================] - 0s 4us/sample - loss: 0.2918\n",
      "Epoch 490/1000\n",
      "898/898 [==============================] - 0s 6us/sample - loss: 0.2915\n",
      "Epoch 491/1000\n",
      "898/898 [==============================] - 0s 6us/sample - loss: 0.2912\n",
      "Epoch 492/1000\n",
      "898/898 [==============================] - 0s 4us/sample - loss: 0.2908\n",
      "Epoch 493/1000\n",
      "898/898 [==============================] - 0s 4us/sample - loss: 0.2905\n",
      "Epoch 494/1000\n",
      "898/898 [==============================] - 0s 6us/sample - loss: 0.2901\n",
      "Epoch 495/1000\n",
      "898/898 [==============================] - 0s 4us/sample - loss: 0.2898\n",
      "Epoch 496/1000\n",
      "898/898 [==============================] - 0s 4us/sample - loss: 0.2895\n",
      "Epoch 497/1000\n",
      "898/898 [==============================] - 0s 4us/sample - loss: 0.2891\n",
      "Epoch 498/1000\n",
      "898/898 [==============================] - 0s 4us/sample - loss: 0.2888\n",
      "Epoch 499/1000\n",
      "898/898 [==============================] - 0s 4us/sample - loss: 0.2884\n",
      "Epoch 500/1000\n",
      "898/898 [==============================] - 0s 4us/sample - loss: 0.2881\n",
      "Epoch 501/1000\n",
      "898/898 [==============================] - 0s 6us/sample - loss: 0.2878\n",
      "Epoch 502/1000\n",
      "898/898 [==============================] - 0s 6us/sample - loss: 0.2874\n",
      "Epoch 503/1000\n",
      "898/898 [==============================] - 0s 4us/sample - loss: 0.2871\n",
      "Epoch 504/1000\n",
      "898/898 [==============================] - 0s 4us/sample - loss: 0.2868\n",
      "Epoch 505/1000\n",
      "898/898 [==============================] - 0s 4us/sample - loss: 0.2865\n",
      "Epoch 506/1000\n",
      "898/898 [==============================] - 0s 4us/sample - loss: 0.2861\n",
      "Epoch 507/1000\n",
      "898/898 [==============================] - 0s 4us/sample - loss: 0.2858\n",
      "Epoch 508/1000\n",
      "898/898 [==============================] - 0s 6us/sample - loss: 0.2855\n",
      "Epoch 509/1000\n",
      "898/898 [==============================] - 0s 7us/sample - loss: 0.2851\n",
      "Epoch 510/1000\n",
      "898/898 [==============================] - 0s 6us/sample - loss: 0.2848\n",
      "Epoch 511/1000\n",
      "898/898 [==============================] - 0s 6us/sample - loss: 0.2845\n",
      "Epoch 512/1000\n",
      "898/898 [==============================] - 0s 6us/sample - loss: 0.2842\n",
      "Epoch 513/1000\n",
      "898/898 [==============================] - 0s 4us/sample - loss: 0.2839\n",
      "Epoch 514/1000\n",
      "898/898 [==============================] - 0s 4us/sample - loss: 0.2835\n",
      "Epoch 515/1000\n",
      "898/898 [==============================] - 0s 4us/sample - loss: 0.2832\n",
      "Epoch 516/1000\n",
      "898/898 [==============================] - 0s 4us/sample - loss: 0.2829\n",
      "Epoch 517/1000\n",
      "898/898 [==============================] - 0s 4us/sample - loss: 0.2826\n",
      "Epoch 518/1000\n",
      "898/898 [==============================] - 0s 4us/sample - loss: 0.2823\n",
      "Epoch 519/1000\n",
      "898/898 [==============================] - 0s 4us/sample - loss: 0.2820\n",
      "Epoch 520/1000\n",
      "898/898 [==============================] - 0s 6us/sample - loss: 0.2816\n",
      "Epoch 521/1000\n",
      "898/898 [==============================] - 0s 8us/sample - loss: 0.2813\n",
      "Epoch 522/1000\n",
      "898/898 [==============================] - 0s 7us/sample - loss: 0.2810\n",
      "Epoch 523/1000\n",
      "898/898 [==============================] - 0s 6us/sample - loss: 0.2807\n",
      "Epoch 524/1000\n",
      "898/898 [==============================] - 0s 6us/sample - loss: 0.2804\n",
      "Epoch 525/1000\n",
      "898/898 [==============================] - 0s 8us/sample - loss: 0.2801\n",
      "Epoch 526/1000\n",
      "898/898 [==============================] - 0s 6us/sample - loss: 0.2798\n",
      "Epoch 527/1000\n",
      "898/898 [==============================] - 0s 6us/sample - loss: 0.2795\n",
      "Epoch 528/1000\n",
      "898/898 [==============================] - 0s 4us/sample - loss: 0.2792\n",
      "Epoch 529/1000\n",
      "898/898 [==============================] - 0s 4us/sample - loss: 0.2788\n",
      "Epoch 530/1000\n",
      "898/898 [==============================] - 0s 6us/sample - loss: 0.2785\n",
      "Epoch 531/1000\n",
      "898/898 [==============================] - 0s 4us/sample - loss: 0.2782\n",
      "Epoch 532/1000\n",
      "898/898 [==============================] - 0s 4us/sample - loss: 0.2779\n",
      "Epoch 533/1000\n",
      "898/898 [==============================] - 0s 6us/sample - loss: 0.2776\n",
      "Epoch 534/1000\n",
      "898/898 [==============================] - 0s 4us/sample - loss: 0.2773\n",
      "Epoch 535/1000\n",
      "898/898 [==============================] - 0s 4us/sample - loss: 0.2770\n",
      "Epoch 536/1000\n",
      "898/898 [==============================] - 0s 6us/sample - loss: 0.2767\n",
      "Epoch 537/1000\n",
      "898/898 [==============================] - 0s 6us/sample - loss: 0.2764\n",
      "Epoch 538/1000\n",
      "898/898 [==============================] - 0s 6us/sample - loss: 0.2761\n",
      "Epoch 539/1000\n",
      "898/898 [==============================] - 0s 4us/sample - loss: 0.2758\n",
      "Epoch 540/1000\n",
      "898/898 [==============================] - 0s 4us/sample - loss: 0.2755\n",
      "Epoch 541/1000\n",
      "898/898 [==============================] - 0s 6us/sample - loss: 0.2752\n",
      "Epoch 542/1000\n",
      "898/898 [==============================] - 0s 6us/sample - loss: 0.2749\n",
      "Epoch 543/1000\n",
      "898/898 [==============================] - 0s 6us/sample - loss: 0.2746\n",
      "Epoch 544/1000\n",
      "898/898 [==============================] - 0s 4us/sample - loss: 0.2744\n",
      "Epoch 545/1000\n",
      "898/898 [==============================] - 0s 6us/sample - loss: 0.2741\n",
      "Epoch 546/1000\n",
      "898/898 [==============================] - 0s 6us/sample - loss: 0.2738\n",
      "Epoch 547/1000\n",
      "898/898 [==============================] - 0s 4us/sample - loss: 0.2735\n",
      "Epoch 548/1000\n",
      "898/898 [==============================] - 0s 4us/sample - loss: 0.2732\n",
      "Epoch 549/1000\n",
      "898/898 [==============================] - 0s 6us/sample - loss: 0.2729\n",
      "Epoch 550/1000\n",
      "898/898 [==============================] - 0s 6us/sample - loss: 0.2726\n",
      "Epoch 551/1000\n",
      "898/898 [==============================] - 0s 6us/sample - loss: 0.2723\n",
      "Epoch 552/1000\n",
      "898/898 [==============================] - 0s 6us/sample - loss: 0.2720\n",
      "Epoch 553/1000\n",
      "898/898 [==============================] - 0s 4us/sample - loss: 0.2718\n",
      "Epoch 554/1000\n",
      "898/898 [==============================] - 0s 4us/sample - loss: 0.2715\n",
      "Epoch 555/1000\n",
      "898/898 [==============================] - 0s 4us/sample - loss: 0.2712\n",
      "Epoch 556/1000\n",
      "898/898 [==============================] - 0s 6us/sample - loss: 0.2709\n",
      "Epoch 557/1000\n",
      "898/898 [==============================] - 0s 6us/sample - loss: 0.2706\n",
      "Epoch 558/1000\n",
      "898/898 [==============================] - 0s 4us/sample - loss: 0.2703\n",
      "Epoch 559/1000\n",
      "898/898 [==============================] - 0s 4us/sample - loss: 0.2701\n",
      "Epoch 560/1000\n",
      "898/898 [==============================] - 0s 6us/sample - loss: 0.2698\n",
      "Epoch 561/1000\n",
      "898/898 [==============================] - 0s 4us/sample - loss: 0.2695\n",
      "Epoch 562/1000\n",
      "898/898 [==============================] - 0s 4us/sample - loss: 0.2692\n",
      "Epoch 563/1000\n",
      "898/898 [==============================] - 0s 6us/sample - loss: 0.2689\n",
      "Epoch 564/1000\n",
      "898/898 [==============================] - 0s 6us/sample - loss: 0.2687\n",
      "Epoch 565/1000\n",
      "898/898 [==============================] - 0s 4us/sample - loss: 0.2684\n",
      "Epoch 566/1000\n",
      "898/898 [==============================] - 0s 6us/sample - loss: 0.2681\n",
      "Epoch 567/1000\n",
      "898/898 [==============================] - 0s 6us/sample - loss: 0.2678\n",
      "Epoch 568/1000\n",
      "898/898 [==============================] - 0s 6us/sample - loss: 0.2676\n",
      "Epoch 569/1000\n",
      "898/898 [==============================] - 0s 4us/sample - loss: 0.2673\n"
     ]
    },
    {
     "name": "stdout",
     "output_type": "stream",
     "text": [
      "Epoch 570/1000\n",
      "898/898 [==============================] - 0s 4us/sample - loss: 0.2670\n",
      "Epoch 571/1000\n",
      "898/898 [==============================] - 0s 6us/sample - loss: 0.2667\n",
      "Epoch 572/1000\n",
      "898/898 [==============================] - 0s 4us/sample - loss: 0.2665\n",
      "Epoch 573/1000\n",
      "898/898 [==============================] - 0s 4us/sample - loss: 0.2662\n",
      "Epoch 574/1000\n",
      "898/898 [==============================] - 0s 4us/sample - loss: 0.2659\n",
      "Epoch 575/1000\n",
      "898/898 [==============================] - 0s 6us/sample - loss: 0.2657\n",
      "Epoch 576/1000\n",
      "898/898 [==============================] - 0s 4us/sample - loss: 0.2654\n",
      "Epoch 577/1000\n",
      "898/898 [==============================] - 0s 4us/sample - loss: 0.2651\n",
      "Epoch 578/1000\n",
      "898/898 [==============================] - 0s 4us/sample - loss: 0.2649\n",
      "Epoch 579/1000\n",
      "898/898 [==============================] - 0s 4us/sample - loss: 0.2646\n",
      "Epoch 580/1000\n",
      "898/898 [==============================] - 0s 4us/sample - loss: 0.2643\n",
      "Epoch 581/1000\n",
      "898/898 [==============================] - 0s 7us/sample - loss: 0.2641\n",
      "Epoch 582/1000\n",
      "898/898 [==============================] - 0s 4us/sample - loss: 0.2638\n",
      "Epoch 583/1000\n",
      "898/898 [==============================] - 0s 4us/sample - loss: 0.2635\n",
      "Epoch 584/1000\n",
      "898/898 [==============================] - 0s 6us/sample - loss: 0.2633\n",
      "Epoch 585/1000\n",
      "898/898 [==============================] - 0s 6us/sample - loss: 0.2630\n",
      "Epoch 586/1000\n",
      "898/898 [==============================] - 0s 7us/sample - loss: 0.2627\n",
      "Epoch 587/1000\n",
      "898/898 [==============================] - 0s 4us/sample - loss: 0.2625\n",
      "Epoch 588/1000\n",
      "898/898 [==============================] - 0s 6us/sample - loss: 0.2622\n",
      "Epoch 589/1000\n",
      "898/898 [==============================] - 0s 6us/sample - loss: 0.2620\n",
      "Epoch 590/1000\n",
      "898/898 [==============================] - 0s 4us/sample - loss: 0.2617\n",
      "Epoch 591/1000\n",
      "898/898 [==============================] - 0s 4us/sample - loss: 0.2615\n",
      "Epoch 592/1000\n",
      "898/898 [==============================] - 0s 4us/sample - loss: 0.2612\n",
      "Epoch 593/1000\n",
      "898/898 [==============================] - 0s 4us/sample - loss: 0.2609\n",
      "Epoch 594/1000\n",
      "898/898 [==============================] - 0s 4us/sample - loss: 0.2607\n",
      "Epoch 595/1000\n",
      "898/898 [==============================] - 0s 4us/sample - loss: 0.2604\n",
      "Epoch 596/1000\n",
      "898/898 [==============================] - 0s 6us/sample - loss: 0.2602\n",
      "Epoch 597/1000\n",
      "898/898 [==============================] - 0s 6us/sample - loss: 0.2599\n",
      "Epoch 598/1000\n",
      "898/898 [==============================] - 0s 4us/sample - loss: 0.2597\n",
      "Epoch 599/1000\n",
      "898/898 [==============================] - 0s 4us/sample - loss: 0.2594\n",
      "Epoch 600/1000\n",
      "898/898 [==============================] - 0s 6us/sample - loss: 0.2592\n",
      "Epoch 601/1000\n",
      "898/898 [==============================] - 0s 6us/sample - loss: 0.2589\n",
      "Epoch 602/1000\n",
      "898/898 [==============================] - 0s 4us/sample - loss: 0.2587\n",
      "Epoch 603/1000\n",
      "898/898 [==============================] - 0s 4us/sample - loss: 0.2584\n",
      "Epoch 604/1000\n",
      "898/898 [==============================] - 0s 6us/sample - loss: 0.2582\n",
      "Epoch 605/1000\n",
      "898/898 [==============================] - 0s 4us/sample - loss: 0.2579\n",
      "Epoch 606/1000\n",
      "898/898 [==============================] - 0s 4us/sample - loss: 0.2577\n",
      "Epoch 607/1000\n",
      "898/898 [==============================] - 0s 4us/sample - loss: 0.2574\n",
      "Epoch 608/1000\n",
      "898/898 [==============================] - 0s 6us/sample - loss: 0.2572\n",
      "Epoch 609/1000\n",
      "898/898 [==============================] - 0s 6us/sample - loss: 0.2569\n",
      "Epoch 610/1000\n",
      "898/898 [==============================] - 0s 4us/sample - loss: 0.2567\n",
      "Epoch 611/1000\n",
      "898/898 [==============================] - 0s 4us/sample - loss: 0.2565\n",
      "Epoch 612/1000\n",
      "898/898 [==============================] - 0s 6us/sample - loss: 0.2562\n",
      "Epoch 613/1000\n",
      "898/898 [==============================] - 0s 4us/sample - loss: 0.2560\n",
      "Epoch 614/1000\n",
      "898/898 [==============================] - 0s 4us/sample - loss: 0.2557\n",
      "Epoch 615/1000\n",
      "898/898 [==============================] - 0s 6us/sample - loss: 0.2555\n",
      "Epoch 616/1000\n",
      "898/898 [==============================] - 0s 6us/sample - loss: 0.2553\n",
      "Epoch 617/1000\n",
      "898/898 [==============================] - 0s 4us/sample - loss: 0.2550\n",
      "Epoch 618/1000\n",
      "898/898 [==============================] - 0s 4us/sample - loss: 0.2548\n",
      "Epoch 619/1000\n",
      "898/898 [==============================] - 0s 4us/sample - loss: 0.2546\n",
      "Epoch 620/1000\n",
      "898/898 [==============================] - 0s 6us/sample - loss: 0.2543\n",
      "Epoch 621/1000\n",
      "898/898 [==============================] - 0s 6us/sample - loss: 0.2541\n",
      "Epoch 622/1000\n",
      "898/898 [==============================] - 0s 4us/sample - loss: 0.2538\n",
      "Epoch 623/1000\n",
      "898/898 [==============================] - 0s 6us/sample - loss: 0.2536\n",
      "Epoch 624/1000\n",
      "898/898 [==============================] - 0s 4us/sample - loss: 0.2534\n",
      "Epoch 625/1000\n",
      "898/898 [==============================] - 0s 4us/sample - loss: 0.2532\n",
      "Epoch 626/1000\n",
      "898/898 [==============================] - 0s 7us/sample - loss: 0.2529\n",
      "Epoch 627/1000\n",
      "898/898 [==============================] - 0s 4us/sample - loss: 0.2527\n",
      "Epoch 628/1000\n",
      "898/898 [==============================] - 0s 4us/sample - loss: 0.2525\n",
      "Epoch 629/1000\n",
      "898/898 [==============================] - 0s 6us/sample - loss: 0.2522\n",
      "Epoch 630/1000\n",
      "898/898 [==============================] - 0s 4us/sample - loss: 0.2520\n",
      "Epoch 631/1000\n",
      "898/898 [==============================] - 0s 4us/sample - loss: 0.2518\n",
      "Epoch 632/1000\n",
      "898/898 [==============================] - 0s 6us/sample - loss: 0.2515\n",
      "Epoch 633/1000\n",
      "898/898 [==============================] - 0s 6us/sample - loss: 0.2513\n",
      "Epoch 634/1000\n",
      "898/898 [==============================] - 0s 6us/sample - loss: 0.2511\n",
      "Epoch 635/1000\n",
      "898/898 [==============================] - 0s 4us/sample - loss: 0.2509\n",
      "Epoch 636/1000\n",
      "898/898 [==============================] - 0s 6us/sample - loss: 0.2506\n",
      "Epoch 637/1000\n",
      "898/898 [==============================] - 0s 6us/sample - loss: 0.2504\n",
      "Epoch 638/1000\n",
      "898/898 [==============================] - 0s 6us/sample - loss: 0.2502\n",
      "Epoch 639/1000\n",
      "898/898 [==============================] - 0s 7us/sample - loss: 0.2500\n",
      "Epoch 640/1000\n",
      "898/898 [==============================] - 0s 6us/sample - loss: 0.2498\n",
      "Epoch 641/1000\n",
      "898/898 [==============================] - 0s 4us/sample - loss: 0.2495\n",
      "Epoch 642/1000\n",
      "898/898 [==============================] - 0s 6us/sample - loss: 0.2493\n",
      "Epoch 643/1000\n",
      "898/898 [==============================] - 0s 4us/sample - loss: 0.2491\n",
      "Epoch 644/1000\n",
      "898/898 [==============================] - 0s 4us/sample - loss: 0.2489\n",
      "Epoch 645/1000\n",
      "898/898 [==============================] - 0s 6us/sample - loss: 0.2487\n",
      "Epoch 646/1000\n",
      "898/898 [==============================] - 0s 4us/sample - loss: 0.2484\n",
      "Epoch 647/1000\n",
      "898/898 [==============================] - 0s 4us/sample - loss: 0.2482\n",
      "Epoch 648/1000\n",
      "898/898 [==============================] - 0s 4us/sample - loss: 0.2480\n",
      "Epoch 649/1000\n",
      "898/898 [==============================] - 0s 6us/sample - loss: 0.2478\n",
      "Epoch 650/1000\n",
      "898/898 [==============================] - 0s 6us/sample - loss: 0.2476\n",
      "Epoch 651/1000\n",
      "898/898 [==============================] - 0s 6us/sample - loss: 0.2474\n",
      "Epoch 652/1000\n",
      "898/898 [==============================] - 0s 6us/sample - loss: 0.2471\n",
      "Epoch 653/1000\n",
      "898/898 [==============================] - 0s 6us/sample - loss: 0.2469\n",
      "Epoch 654/1000\n",
      "898/898 [==============================] - 0s 4us/sample - loss: 0.2467\n",
      "Epoch 655/1000\n",
      "898/898 [==============================] - 0s 4us/sample - loss: 0.2465\n",
      "Epoch 656/1000\n",
      "898/898 [==============================] - 0s 4us/sample - loss: 0.2463\n",
      "Epoch 657/1000\n",
      "898/898 [==============================] - 0s 6us/sample - loss: 0.2461\n",
      "Epoch 658/1000\n",
      "898/898 [==============================] - 0s 4us/sample - loss: 0.2459\n",
      "Epoch 659/1000\n",
      "898/898 [==============================] - 0s 6us/sample - loss: 0.2457\n",
      "Epoch 660/1000\n",
      "898/898 [==============================] - 0s 4us/sample - loss: 0.2454\n",
      "Epoch 661/1000\n",
      "898/898 [==============================] - 0s 6us/sample - loss: 0.2452\n",
      "Epoch 662/1000\n",
      "898/898 [==============================] - 0s 6us/sample - loss: 0.2450\n",
      "Epoch 663/1000\n",
      "898/898 [==============================] - 0s 6us/sample - loss: 0.2448\n",
      "Epoch 664/1000\n"
     ]
    },
    {
     "name": "stdout",
     "output_type": "stream",
     "text": [
      "898/898 [==============================] - 0s 6us/sample - loss: 0.2446\n",
      "Epoch 665/1000\n",
      "898/898 [==============================] - 0s 6us/sample - loss: 0.2444\n",
      "Epoch 666/1000\n",
      "898/898 [==============================] - 0s 4us/sample - loss: 0.2442\n",
      "Epoch 667/1000\n",
      "898/898 [==============================] - 0s 4us/sample - loss: 0.2440\n",
      "Epoch 668/1000\n",
      "898/898 [==============================] - 0s 4us/sample - loss: 0.2438\n",
      "Epoch 669/1000\n",
      "898/898 [==============================] - 0s 4us/sample - loss: 0.2436\n",
      "Epoch 670/1000\n",
      "898/898 [==============================] - 0s 4us/sample - loss: 0.2434\n",
      "Epoch 671/1000\n",
      "898/898 [==============================] - 0s 6us/sample - loss: 0.2432\n",
      "Epoch 672/1000\n",
      "898/898 [==============================] - 0s 6us/sample - loss: 0.2430\n",
      "Epoch 673/1000\n",
      "898/898 [==============================] - 0s 6us/sample - loss: 0.2428\n",
      "Epoch 674/1000\n",
      "898/898 [==============================] - 0s 4us/sample - loss: 0.2426\n",
      "Epoch 675/1000\n",
      "898/898 [==============================] - 0s 4us/sample - loss: 0.2424\n",
      "Epoch 676/1000\n",
      "898/898 [==============================] - 0s 6us/sample - loss: 0.2422\n",
      "Epoch 677/1000\n",
      "898/898 [==============================] - 0s 4us/sample - loss: 0.2420\n",
      "Epoch 678/1000\n",
      "898/898 [==============================] - 0s 4us/sample - loss: 0.2418\n",
      "Epoch 679/1000\n",
      "898/898 [==============================] - 0s 4us/sample - loss: 0.2416\n",
      "Epoch 680/1000\n",
      "898/898 [==============================] - 0s 6us/sample - loss: 0.2414\n",
      "Epoch 681/1000\n",
      "898/898 [==============================] - 0s 4us/sample - loss: 0.2412\n",
      "Epoch 682/1000\n",
      "898/898 [==============================] - 0s 4us/sample - loss: 0.2410\n",
      "Epoch 683/1000\n",
      "898/898 [==============================] - 0s 6us/sample - loss: 0.2408\n",
      "Epoch 684/1000\n",
      "898/898 [==============================] - 0s 4us/sample - loss: 0.2406\n",
      "Epoch 685/1000\n",
      "898/898 [==============================] - 0s 4us/sample - loss: 0.2404\n",
      "Epoch 686/1000\n",
      "898/898 [==============================] - 0s 4us/sample - loss: 0.2402\n",
      "Epoch 687/1000\n",
      "898/898 [==============================] - 0s 4us/sample - loss: 0.2400\n",
      "Epoch 688/1000\n",
      "898/898 [==============================] - 0s 6us/sample - loss: 0.2398\n",
      "Epoch 689/1000\n",
      "898/898 [==============================] - 0s 4us/sample - loss: 0.2396\n",
      "Epoch 690/1000\n",
      "898/898 [==============================] - 0s 6us/sample - loss: 0.2394\n",
      "Epoch 691/1000\n",
      "898/898 [==============================] - 0s 6us/sample - loss: 0.2392\n",
      "Epoch 692/1000\n",
      "898/898 [==============================] - 0s 4us/sample - loss: 0.2390\n",
      "Epoch 693/1000\n",
      "898/898 [==============================] - 0s 4us/sample - loss: 0.2388\n",
      "Epoch 694/1000\n",
      "898/898 [==============================] - 0s 4us/sample - loss: 0.2387\n",
      "Epoch 695/1000\n",
      "898/898 [==============================] - 0s 4us/sample - loss: 0.2385\n",
      "Epoch 696/1000\n",
      "898/898 [==============================] - 0s 4us/sample - loss: 0.2383\n",
      "Epoch 697/1000\n",
      "898/898 [==============================] - 0s 4us/sample - loss: 0.2381\n",
      "Epoch 698/1000\n",
      "898/898 [==============================] - 0s 6us/sample - loss: 0.2379\n",
      "Epoch 699/1000\n",
      "898/898 [==============================] - 0s 6us/sample - loss: 0.2377\n",
      "Epoch 700/1000\n",
      "898/898 [==============================] - 0s 4us/sample - loss: 0.2375\n",
      "Epoch 701/1000\n",
      "898/898 [==============================] - 0s 4us/sample - loss: 0.2373\n",
      "Epoch 702/1000\n",
      "898/898 [==============================] - 0s 6us/sample - loss: 0.2371\n",
      "Epoch 703/1000\n",
      "898/898 [==============================] - 0s 4us/sample - loss: 0.2369\n",
      "Epoch 704/1000\n",
      "898/898 [==============================] - 0s 4us/sample - loss: 0.2368\n",
      "Epoch 705/1000\n",
      "898/898 [==============================] - 0s 6us/sample - loss: 0.2366\n",
      "Epoch 706/1000\n",
      "898/898 [==============================] - 0s 4us/sample - loss: 0.2364\n",
      "Epoch 707/1000\n",
      "898/898 [==============================] - 0s 4us/sample - loss: 0.2362\n",
      "Epoch 708/1000\n",
      "898/898 [==============================] - 0s 6us/sample - loss: 0.2360\n",
      "Epoch 709/1000\n",
      "898/898 [==============================] - 0s 6us/sample - loss: 0.2358\n",
      "Epoch 710/1000\n",
      "898/898 [==============================] - 0s 4us/sample - loss: 0.2356\n",
      "Epoch 711/1000\n",
      "898/898 [==============================] - 0s 6us/sample - loss: 0.2355\n",
      "Epoch 712/1000\n",
      "898/898 [==============================] - 0s 4us/sample - loss: 0.2353\n",
      "Epoch 713/1000\n",
      "898/898 [==============================] - 0s 4us/sample - loss: 0.2351\n",
      "Epoch 714/1000\n",
      "898/898 [==============================] - 0s 4us/sample - loss: 0.2349\n",
      "Epoch 715/1000\n",
      "898/898 [==============================] - 0s 6us/sample - loss: 0.2347\n",
      "Epoch 716/1000\n",
      "898/898 [==============================] - 0s 4us/sample - loss: 0.2345\n",
      "Epoch 717/1000\n",
      "898/898 [==============================] - 0s 4us/sample - loss: 0.2344\n",
      "Epoch 718/1000\n",
      "898/898 [==============================] - 0s 6us/sample - loss: 0.2342\n",
      "Epoch 719/1000\n",
      "898/898 [==============================] - 0s 6us/sample - loss: 0.2340\n",
      "Epoch 720/1000\n",
      "898/898 [==============================] - 0s 6us/sample - loss: 0.2338\n",
      "Epoch 721/1000\n",
      "898/898 [==============================] - 0s 4us/sample - loss: 0.2337\n",
      "Epoch 722/1000\n",
      "898/898 [==============================] - 0s 4us/sample - loss: 0.2335\n",
      "Epoch 723/1000\n",
      "898/898 [==============================] - 0s 6us/sample - loss: 0.2333\n",
      "Epoch 724/1000\n",
      "898/898 [==============================] - 0s 4us/sample - loss: 0.2331\n",
      "Epoch 725/1000\n",
      "898/898 [==============================] - 0s 6us/sample - loss: 0.2329\n",
      "Epoch 726/1000\n",
      "898/898 [==============================] - 0s 4us/sample - loss: 0.2328\n",
      "Epoch 727/1000\n",
      "898/898 [==============================] - 0s 6us/sample - loss: 0.2326\n",
      "Epoch 728/1000\n",
      "898/898 [==============================] - 0s 6us/sample - loss: 0.2324\n",
      "Epoch 729/1000\n",
      "898/898 [==============================] - 0s 4us/sample - loss: 0.2322\n",
      "Epoch 730/1000\n",
      "898/898 [==============================] - 0s 4us/sample - loss: 0.2321\n",
      "Epoch 731/1000\n",
      "898/898 [==============================] - 0s 6us/sample - loss: 0.2319\n",
      "Epoch 732/1000\n",
      "898/898 [==============================] - 0s 6us/sample - loss: 0.2317\n",
      "Epoch 733/1000\n",
      "898/898 [==============================] - 0s 4us/sample - loss: 0.2315\n",
      "Epoch 734/1000\n",
      "898/898 [==============================] - 0s 6us/sample - loss: 0.2314\n",
      "Epoch 735/1000\n",
      "898/898 [==============================] - 0s 7us/sample - loss: 0.2312\n",
      "Epoch 736/1000\n",
      "898/898 [==============================] - 0s 4us/sample - loss: 0.2310\n",
      "Epoch 737/1000\n",
      "898/898 [==============================] - 0s 4us/sample - loss: 0.2308\n",
      "Epoch 738/1000\n",
      "898/898 [==============================] - 0s 4us/sample - loss: 0.2307\n",
      "Epoch 739/1000\n",
      "898/898 [==============================] - 0s 6us/sample - loss: 0.2305\n",
      "Epoch 740/1000\n",
      "898/898 [==============================] - 0s 6us/sample - loss: 0.2303\n",
      "Epoch 741/1000\n",
      "898/898 [==============================] - 0s 4us/sample - loss: 0.2301\n",
      "Epoch 742/1000\n",
      "898/898 [==============================] - 0s 4us/sample - loss: 0.2300\n",
      "Epoch 743/1000\n",
      "898/898 [==============================] - 0s 6us/sample - loss: 0.2298\n",
      "Epoch 744/1000\n",
      "898/898 [==============================] - 0s 6us/sample - loss: 0.2296\n",
      "Epoch 745/1000\n",
      "898/898 [==============================] - 0s 4us/sample - loss: 0.2294\n",
      "Epoch 746/1000\n",
      "898/898 [==============================] - 0s 4us/sample - loss: 0.2293\n",
      "Epoch 747/1000\n",
      "898/898 [==============================] - 0s 6us/sample - loss: 0.2291\n",
      "Epoch 748/1000\n",
      "898/898 [==============================] - 0s 6us/sample - loss: 0.2289\n",
      "Epoch 749/1000\n",
      "898/898 [==============================] - 0s 6us/sample - loss: 0.2288\n",
      "Epoch 750/1000\n",
      "898/898 [==============================] - 0s 4us/sample - loss: 0.2286\n",
      "Epoch 751/1000\n",
      "898/898 [==============================] - 0s 6us/sample - loss: 0.2284\n",
      "Epoch 752/1000\n",
      "898/898 [==============================] - 0s 6us/sample - loss: 0.2283\n",
      "Epoch 753/1000\n",
      "898/898 [==============================] - 0s 6us/sample - loss: 0.2281\n",
      "Epoch 754/1000\n",
      "898/898 [==============================] - 0s 4us/sample - loss: 0.2279\n",
      "Epoch 755/1000\n",
      "898/898 [==============================] - 0s 4us/sample - loss: 0.2278\n",
      "Epoch 756/1000\n",
      "898/898 [==============================] - 0s 4us/sample - loss: 0.2276\n",
      "Epoch 757/1000\n",
      "898/898 [==============================] - 0s 6us/sample - loss: 0.2274\n",
      "Epoch 758/1000\n",
      "898/898 [==============================] - 0s 4us/sample - loss: 0.2273\n"
     ]
    },
    {
     "name": "stdout",
     "output_type": "stream",
     "text": [
      "Epoch 759/1000\n",
      "898/898 [==============================] - 0s 6us/sample - loss: 0.2271\n",
      "Epoch 760/1000\n",
      "898/898 [==============================] - 0s 4us/sample - loss: 0.2269\n",
      "Epoch 761/1000\n",
      "898/898 [==============================] - 0s 6us/sample - loss: 0.2268\n",
      "Epoch 762/1000\n",
      "898/898 [==============================] - 0s 6us/sample - loss: 0.2266\n",
      "Epoch 763/1000\n",
      "898/898 [==============================] - 0s 8us/sample - loss: 0.2264\n",
      "Epoch 764/1000\n",
      "898/898 [==============================] - 0s 8us/sample - loss: 0.2263\n",
      "Epoch 765/1000\n",
      "898/898 [==============================] - 0s 6us/sample - loss: 0.2261\n",
      "Epoch 766/1000\n",
      "898/898 [==============================] - 0s 4us/sample - loss: 0.2260\n",
      "Epoch 767/1000\n",
      "898/898 [==============================] - 0s 9us/sample - loss: 0.2258\n",
      "Epoch 768/1000\n",
      "898/898 [==============================] - 0s 6us/sample - loss: 0.2256\n",
      "Epoch 769/1000\n",
      "898/898 [==============================] - 0s 7us/sample - loss: 0.2255\n",
      "Epoch 770/1000\n",
      "898/898 [==============================] - 0s 6us/sample - loss: 0.2253\n",
      "Epoch 771/1000\n",
      "898/898 [==============================] - 0s 8us/sample - loss: 0.2252\n",
      "Epoch 772/1000\n",
      "898/898 [==============================] - 0s 7us/sample - loss: 0.2250\n",
      "Epoch 773/1000\n",
      "898/898 [==============================] - 0s 7us/sample - loss: 0.2248\n",
      "Epoch 774/1000\n",
      "898/898 [==============================] - 0s 4us/sample - loss: 0.2247\n",
      "Epoch 775/1000\n",
      "898/898 [==============================] - 0s 6us/sample - loss: 0.2245\n",
      "Epoch 776/1000\n",
      "898/898 [==============================] - 0s 7us/sample - loss: 0.2244\n",
      "Epoch 777/1000\n",
      "898/898 [==============================] - 0s 6us/sample - loss: 0.2242\n",
      "Epoch 778/1000\n",
      "898/898 [==============================] - 0s 7us/sample - loss: 0.2240\n",
      "Epoch 779/1000\n",
      "898/898 [==============================] - 0s 8us/sample - loss: 0.2239\n",
      "Epoch 780/1000\n",
      "898/898 [==============================] - 0s 6us/sample - loss: 0.2237\n",
      "Epoch 781/1000\n",
      "898/898 [==============================] - 0s 7us/sample - loss: 0.2236\n",
      "Epoch 782/1000\n",
      "898/898 [==============================] - 0s 6us/sample - loss: 0.2234\n",
      "Epoch 783/1000\n",
      "898/898 [==============================] - 0s 4us/sample - loss: 0.2233\n",
      "Epoch 784/1000\n",
      "898/898 [==============================] - 0s 6us/sample - loss: 0.2231\n",
      "Epoch 785/1000\n",
      "898/898 [==============================] - 0s 6us/sample - loss: 0.2230\n",
      "Epoch 786/1000\n",
      "898/898 [==============================] - 0s 7us/sample - loss: 0.2228\n",
      "Epoch 787/1000\n",
      "898/898 [==============================] - 0s 6us/sample - loss: 0.2226\n",
      "Epoch 788/1000\n",
      "898/898 [==============================] - 0s 7us/sample - loss: 0.2225\n",
      "Epoch 789/1000\n",
      "898/898 [==============================] - 0s 6us/sample - loss: 0.2223\n",
      "Epoch 790/1000\n",
      "898/898 [==============================] - 0s 12us/sample - loss: 0.2222\n",
      "Epoch 791/1000\n",
      "898/898 [==============================] - 0s 7us/sample - loss: 0.2220\n",
      "Epoch 792/1000\n",
      "898/898 [==============================] - 0s 6us/sample - loss: 0.2219\n",
      "Epoch 793/1000\n",
      "898/898 [==============================] - 0s 7us/sample - loss: 0.2217\n",
      "Epoch 794/1000\n",
      "898/898 [==============================] - 0s 6us/sample - loss: 0.2216\n",
      "Epoch 795/1000\n",
      "898/898 [==============================] - 0s 6us/sample - loss: 0.2214\n",
      "Epoch 796/1000\n",
      "898/898 [==============================] - 0s 7us/sample - loss: 0.2213\n",
      "Epoch 797/1000\n",
      "898/898 [==============================] - 0s 7us/sample - loss: 0.2211\n",
      "Epoch 798/1000\n",
      "898/898 [==============================] - 0s 6us/sample - loss: 0.2210\n",
      "Epoch 799/1000\n",
      "898/898 [==============================] - 0s 7us/sample - loss: 0.2208\n",
      "Epoch 800/1000\n",
      "898/898 [==============================] - 0s 7us/sample - loss: 0.2207\n",
      "Epoch 801/1000\n",
      "898/898 [==============================] - 0s 6us/sample - loss: 0.2205\n",
      "Epoch 802/1000\n",
      "898/898 [==============================] - 0s 4us/sample - loss: 0.2204\n",
      "Epoch 803/1000\n",
      "898/898 [==============================] - 0s 6us/sample - loss: 0.2202\n",
      "Epoch 804/1000\n",
      "898/898 [==============================] - 0s 4us/sample - loss: 0.2201\n",
      "Epoch 805/1000\n",
      "898/898 [==============================] - 0s 7us/sample - loss: 0.2199\n",
      "Epoch 806/1000\n",
      "898/898 [==============================] - 0s 7us/sample - loss: 0.2198\n",
      "Epoch 807/1000\n",
      "898/898 [==============================] - 0s 7us/sample - loss: 0.2196\n",
      "Epoch 808/1000\n",
      "898/898 [==============================] - 0s 6us/sample - loss: 0.2195\n",
      "Epoch 809/1000\n",
      "898/898 [==============================] - 0s 6us/sample - loss: 0.2193\n",
      "Epoch 810/1000\n",
      "898/898 [==============================] - 0s 6us/sample - loss: 0.2192\n",
      "Epoch 811/1000\n",
      "898/898 [==============================] - 0s 7us/sample - loss: 0.2190\n",
      "Epoch 812/1000\n",
      "898/898 [==============================] - 0s 6us/sample - loss: 0.2189\n",
      "Epoch 813/1000\n",
      "898/898 [==============================] - 0s 7us/sample - loss: 0.2187\n",
      "Epoch 814/1000\n",
      "898/898 [==============================] - 0s 7us/sample - loss: 0.2186\n",
      "Epoch 815/1000\n",
      "898/898 [==============================] - 0s 6us/sample - loss: 0.2185\n",
      "Epoch 816/1000\n",
      "898/898 [==============================] - 0s 6us/sample - loss: 0.2183\n",
      "Epoch 817/1000\n",
      "898/898 [==============================] - 0s 6us/sample - loss: 0.2182\n",
      "Epoch 818/1000\n",
      "898/898 [==============================] - 0s 7us/sample - loss: 0.2180\n",
      "Epoch 819/1000\n",
      "898/898 [==============================] - 0s 6us/sample - loss: 0.2179\n",
      "Epoch 820/1000\n",
      "898/898 [==============================] - 0s 7us/sample - loss: 0.2177\n",
      "Epoch 821/1000\n",
      "898/898 [==============================] - 0s 6us/sample - loss: 0.2176\n",
      "Epoch 822/1000\n",
      "898/898 [==============================] - 0s 6us/sample - loss: 0.2174\n",
      "Epoch 823/1000\n",
      "898/898 [==============================] - 0s 6us/sample - loss: 0.2173\n",
      "Epoch 824/1000\n",
      "898/898 [==============================] - 0s 8us/sample - loss: 0.2171\n",
      "Epoch 825/1000\n",
      "898/898 [==============================] - 0s 7us/sample - loss: 0.2170\n",
      "Epoch 826/1000\n",
      "898/898 [==============================] - 0s 8us/sample - loss: 0.2169\n",
      "Epoch 827/1000\n",
      "898/898 [==============================] - 0s 6us/sample - loss: 0.2167\n",
      "Epoch 828/1000\n",
      "898/898 [==============================] - 0s 6us/sample - loss: 0.2166\n",
      "Epoch 829/1000\n",
      "898/898 [==============================] - 0s 6us/sample - loss: 0.2164\n",
      "Epoch 830/1000\n",
      "898/898 [==============================] - 0s 4us/sample - loss: 0.2163\n",
      "Epoch 831/1000\n",
      "898/898 [==============================] - 0s 6us/sample - loss: 0.2161\n",
      "Epoch 832/1000\n",
      "898/898 [==============================] - 0s 6us/sample - loss: 0.2160\n",
      "Epoch 833/1000\n",
      "898/898 [==============================] - 0s 7us/sample - loss: 0.2159\n",
      "Epoch 834/1000\n",
      "898/898 [==============================] - 0s 7us/sample - loss: 0.2157\n",
      "Epoch 835/1000\n",
      "898/898 [==============================] - 0s 7us/sample - loss: 0.2156\n",
      "Epoch 836/1000\n",
      "898/898 [==============================] - 0s 6us/sample - loss: 0.2154\n",
      "Epoch 837/1000\n",
      "898/898 [==============================] - 0s 9us/sample - loss: 0.2153\n",
      "Epoch 838/1000\n",
      "898/898 [==============================] - 0s 4us/sample - loss: 0.2152\n",
      "Epoch 839/1000\n",
      "898/898 [==============================] - 0s 7us/sample - loss: 0.2150\n",
      "Epoch 840/1000\n",
      "898/898 [==============================] - 0s 6us/sample - loss: 0.2149\n",
      "Epoch 841/1000\n",
      "898/898 [==============================] - 0s 7us/sample - loss: 0.2147\n",
      "Epoch 842/1000\n",
      "898/898 [==============================] - 0s 6us/sample - loss: 0.2146\n",
      "Epoch 843/1000\n",
      "898/898 [==============================] - 0s 6us/sample - loss: 0.2145\n",
      "Epoch 844/1000\n",
      "898/898 [==============================] - 0s 6us/sample - loss: 0.2143\n",
      "Epoch 845/1000\n",
      "898/898 [==============================] - 0s 6us/sample - loss: 0.2142\n",
      "Epoch 846/1000\n",
      "898/898 [==============================] - 0s 6us/sample - loss: 0.2141\n",
      "Epoch 847/1000\n",
      "898/898 [==============================] - 0s 6us/sample - loss: 0.2139\n",
      "Epoch 848/1000\n",
      "898/898 [==============================] - 0s 7us/sample - loss: 0.2138\n",
      "Epoch 849/1000\n",
      "898/898 [==============================] - 0s 4us/sample - loss: 0.2137\n",
      "Epoch 850/1000\n",
      "898/898 [==============================] - 0s 7us/sample - loss: 0.2135\n",
      "Epoch 851/1000\n",
      "898/898 [==============================] - 0s 6us/sample - loss: 0.2134\n",
      "Epoch 852/1000\n",
      "898/898 [==============================] - 0s 6us/sample - loss: 0.2132\n",
      "Epoch 853/1000\n",
      "898/898 [==============================] - 0s 4us/sample - loss: 0.2131\n"
     ]
    },
    {
     "name": "stdout",
     "output_type": "stream",
     "text": [
      "Epoch 854/1000\n",
      "898/898 [==============================] - 0s 6us/sample - loss: 0.2130\n",
      "Epoch 855/1000\n",
      "898/898 [==============================] - 0s 6us/sample - loss: 0.2128\n",
      "Epoch 856/1000\n",
      "898/898 [==============================] - 0s 6us/sample - loss: 0.2127\n",
      "Epoch 857/1000\n",
      "898/898 [==============================] - 0s 7us/sample - loss: 0.2126\n",
      "Epoch 858/1000\n",
      "898/898 [==============================] - 0s 4us/sample - loss: 0.2124\n",
      "Epoch 859/1000\n",
      "898/898 [==============================] - 0s 6us/sample - loss: 0.2123\n",
      "Epoch 860/1000\n",
      "898/898 [==============================] - 0s 6us/sample - loss: 0.2122\n",
      "Epoch 861/1000\n",
      "898/898 [==============================] - 0s 4us/sample - loss: 0.2120\n",
      "Epoch 862/1000\n",
      "898/898 [==============================] - 0s 7us/sample - loss: 0.2119\n",
      "Epoch 863/1000\n",
      "898/898 [==============================] - 0s 6us/sample - loss: 0.2118\n",
      "Epoch 864/1000\n",
      "898/898 [==============================] - 0s 6us/sample - loss: 0.2117\n",
      "Epoch 865/1000\n",
      "898/898 [==============================] - 0s 6us/sample - loss: 0.2115\n",
      "Epoch 866/1000\n",
      "898/898 [==============================] - 0s 4us/sample - loss: 0.2114\n",
      "Epoch 867/1000\n",
      "898/898 [==============================] - 0s 6us/sample - loss: 0.2113\n",
      "Epoch 868/1000\n",
      "898/898 [==============================] - 0s 7us/sample - loss: 0.2111\n",
      "Epoch 869/1000\n",
      "898/898 [==============================] - 0s 7us/sample - loss: 0.2110\n",
      "Epoch 870/1000\n",
      "898/898 [==============================] - 0s 6us/sample - loss: 0.2109\n",
      "Epoch 871/1000\n",
      "898/898 [==============================] - 0s 6us/sample - loss: 0.2107\n",
      "Epoch 872/1000\n",
      "898/898 [==============================] - 0s 4us/sample - loss: 0.2106\n",
      "Epoch 873/1000\n",
      "898/898 [==============================] - 0s 4us/sample - loss: 0.2105\n",
      "Epoch 874/1000\n",
      "898/898 [==============================] - 0s 6us/sample - loss: 0.2104\n",
      "Epoch 875/1000\n",
      "898/898 [==============================] - 0s 6us/sample - loss: 0.2102\n",
      "Epoch 876/1000\n",
      "898/898 [==============================] - 0s 6us/sample - loss: 0.2101\n",
      "Epoch 877/1000\n",
      "898/898 [==============================] - 0s 4us/sample - loss: 0.2100\n",
      "Epoch 878/1000\n",
      "898/898 [==============================] - 0s 6us/sample - loss: 0.2099\n",
      "Epoch 879/1000\n",
      "898/898 [==============================] - 0s 6us/sample - loss: 0.2097\n",
      "Epoch 880/1000\n",
      "898/898 [==============================] - 0s 6us/sample - loss: 0.2096\n",
      "Epoch 881/1000\n",
      "898/898 [==============================] - 0s 7us/sample - loss: 0.2095\n",
      "Epoch 882/1000\n",
      "898/898 [==============================] - 0s 6us/sample - loss: 0.2093\n",
      "Epoch 883/1000\n",
      "898/898 [==============================] - 0s 6us/sample - loss: 0.2092\n",
      "Epoch 884/1000\n",
      "898/898 [==============================] - 0s 6us/sample - loss: 0.2091\n",
      "Epoch 885/1000\n",
      "898/898 [==============================] - 0s 6us/sample - loss: 0.2090\n",
      "Epoch 886/1000\n",
      "898/898 [==============================] - 0s 6us/sample - loss: 0.2088\n",
      "Epoch 887/1000\n",
      "898/898 [==============================] - 0s 6us/sample - loss: 0.2087\n",
      "Epoch 888/1000\n",
      "898/898 [==============================] - 0s 6us/sample - loss: 0.2086\n",
      "Epoch 889/1000\n",
      "898/898 [==============================] - 0s 6us/sample - loss: 0.2085\n",
      "Epoch 890/1000\n",
      "898/898 [==============================] - 0s 6us/sample - loss: 0.2084\n",
      "Epoch 891/1000\n",
      "898/898 [==============================] - 0s 6us/sample - loss: 0.2082\n",
      "Epoch 892/1000\n",
      "898/898 [==============================] - 0s 7us/sample - loss: 0.2081\n",
      "Epoch 893/1000\n",
      "898/898 [==============================] - 0s 6us/sample - loss: 0.2080\n",
      "Epoch 894/1000\n",
      "898/898 [==============================] - 0s 8us/sample - loss: 0.2079\n",
      "Epoch 895/1000\n",
      "898/898 [==============================] - 0s 6us/sample - loss: 0.2077\n",
      "Epoch 896/1000\n",
      "898/898 [==============================] - 0s 9us/sample - loss: 0.2076\n",
      "Epoch 897/1000\n",
      "898/898 [==============================] - 0s 8us/sample - loss: 0.2075\n",
      "Epoch 898/1000\n",
      "898/898 [==============================] - 0s 8us/sample - loss: 0.2074\n",
      "Epoch 899/1000\n",
      "898/898 [==============================] - 0s 7us/sample - loss: 0.2073\n",
      "Epoch 900/1000\n",
      "898/898 [==============================] - 0s 8us/sample - loss: 0.2071\n",
      "Epoch 901/1000\n",
      "898/898 [==============================] - 0s 6us/sample - loss: 0.2070\n",
      "Epoch 902/1000\n",
      "898/898 [==============================] - 0s 9us/sample - loss: 0.2069\n",
      "Epoch 903/1000\n",
      "898/898 [==============================] - 0s 6us/sample - loss: 0.2068\n",
      "Epoch 904/1000\n",
      "898/898 [==============================] - 0s 8us/sample - loss: 0.2066\n",
      "Epoch 905/1000\n",
      "898/898 [==============================] - 0s 7us/sample - loss: 0.2065\n",
      "Epoch 906/1000\n",
      "898/898 [==============================] - 0s 8us/sample - loss: 0.2064\n",
      "Epoch 907/1000\n",
      "898/898 [==============================] - 0s 6us/sample - loss: 0.2063\n",
      "Epoch 908/1000\n",
      "898/898 [==============================] - 0s 8us/sample - loss: 0.2062\n",
      "Epoch 909/1000\n",
      "898/898 [==============================] - 0s 7us/sample - loss: 0.2061\n",
      "Epoch 910/1000\n",
      "898/898 [==============================] - 0s 9us/sample - loss: 0.2059\n",
      "Epoch 911/1000\n",
      "898/898 [==============================] - 0s 9us/sample - loss: 0.2058\n",
      "Epoch 912/1000\n",
      "898/898 [==============================] - 0s 7us/sample - loss: 0.2057\n",
      "Epoch 913/1000\n",
      "898/898 [==============================] - 0s 6us/sample - loss: 0.2056\n",
      "Epoch 914/1000\n",
      "898/898 [==============================] - 0s 7us/sample - loss: 0.2055\n",
      "Epoch 915/1000\n",
      "898/898 [==============================] - 0s 6us/sample - loss: 0.2053\n",
      "Epoch 916/1000\n",
      "898/898 [==============================] - 0s 6us/sample - loss: 0.2052\n",
      "Epoch 917/1000\n",
      "898/898 [==============================] - 0s 7us/sample - loss: 0.2051\n",
      "Epoch 918/1000\n",
      "898/898 [==============================] - 0s 7us/sample - loss: 0.2050\n",
      "Epoch 919/1000\n",
      "898/898 [==============================] - 0s 7us/sample - loss: 0.2049\n",
      "Epoch 920/1000\n",
      "898/898 [==============================] - 0s 7us/sample - loss: 0.2048\n",
      "Epoch 921/1000\n",
      "898/898 [==============================] - 0s 7us/sample - loss: 0.2047\n",
      "Epoch 922/1000\n",
      "898/898 [==============================] - 0s 7us/sample - loss: 0.2045\n",
      "Epoch 923/1000\n",
      "898/898 [==============================] - 0s 7us/sample - loss: 0.2044\n",
      "Epoch 924/1000\n",
      "898/898 [==============================] - 0s 8us/sample - loss: 0.2043\n",
      "Epoch 925/1000\n",
      "898/898 [==============================] - 0s 8us/sample - loss: 0.2042\n",
      "Epoch 926/1000\n",
      "898/898 [==============================] - 0s 7us/sample - loss: 0.2041\n",
      "Epoch 927/1000\n",
      "898/898 [==============================] - 0s 7us/sample - loss: 0.2040\n",
      "Epoch 928/1000\n",
      "898/898 [==============================] - 0s 11us/sample - loss: 0.2039\n",
      "Epoch 929/1000\n",
      "898/898 [==============================] - 0s 7us/sample - loss: 0.2038\n",
      "Epoch 930/1000\n",
      "898/898 [==============================] - 0s 7us/sample - loss: 0.2036\n",
      "Epoch 931/1000\n",
      "898/898 [==============================] - 0s 6us/sample - loss: 0.2035\n",
      "Epoch 932/1000\n",
      "898/898 [==============================] - 0s 8us/sample - loss: 0.2034\n",
      "Epoch 933/1000\n",
      "898/898 [==============================] - 0s 7us/sample - loss: 0.2033\n",
      "Epoch 934/1000\n",
      "898/898 [==============================] - 0s 7us/sample - loss: 0.2032\n",
      "Epoch 935/1000\n",
      "898/898 [==============================] - 0s 7us/sample - loss: 0.2031\n",
      "Epoch 936/1000\n",
      "898/898 [==============================] - 0s 7us/sample - loss: 0.2030\n",
      "Epoch 937/1000\n",
      "898/898 [==============================] - 0s 6us/sample - loss: 0.2029\n",
      "Epoch 938/1000\n",
      "898/898 [==============================] - 0s 4us/sample - loss: 0.2027\n",
      "Epoch 939/1000\n",
      "898/898 [==============================] - 0s 6us/sample - loss: 0.2026\n",
      "Epoch 940/1000\n",
      "898/898 [==============================] - 0s 6us/sample - loss: 0.2025\n",
      "Epoch 941/1000\n",
      "898/898 [==============================] - 0s 6us/sample - loss: 0.2024\n",
      "Epoch 942/1000\n",
      "898/898 [==============================] - 0s 4us/sample - loss: 0.2023\n",
      "Epoch 943/1000\n",
      "898/898 [==============================] - 0s 6us/sample - loss: 0.2022\n",
      "Epoch 944/1000\n",
      "898/898 [==============================] - 0s 4us/sample - loss: 0.2021\n",
      "Epoch 945/1000\n",
      "898/898 [==============================] - 0s 6us/sample - loss: 0.2020\n",
      "Epoch 946/1000\n",
      "898/898 [==============================] - 0s 6us/sample - loss: 0.2019\n",
      "Epoch 947/1000\n",
      "898/898 [==============================] - 0s 4us/sample - loss: 0.2017\n",
      "Epoch 948/1000\n",
      "898/898 [==============================] - 0s 4us/sample - loss: 0.2016\n"
     ]
    },
    {
     "name": "stdout",
     "output_type": "stream",
     "text": [
      "Epoch 949/1000\n",
      "898/898 [==============================] - 0s 6us/sample - loss: 0.2015\n",
      "Epoch 950/1000\n",
      "898/898 [==============================] - 0s 6us/sample - loss: 0.2014\n",
      "Epoch 951/1000\n",
      "898/898 [==============================] - 0s 4us/sample - loss: 0.2013\n",
      "Epoch 952/1000\n",
      "898/898 [==============================] - 0s 6us/sample - loss: 0.2012\n",
      "Epoch 953/1000\n",
      "898/898 [==============================] - 0s 7us/sample - loss: 0.2011\n",
      "Epoch 954/1000\n",
      "898/898 [==============================] - 0s 6us/sample - loss: 0.2010\n",
      "Epoch 955/1000\n",
      "898/898 [==============================] - 0s 6us/sample - loss: 0.2009\n",
      "Epoch 956/1000\n",
      "898/898 [==============================] - 0s 4us/sample - loss: 0.2008\n",
      "Epoch 957/1000\n",
      "898/898 [==============================] - 0s 4us/sample - loss: 0.2007\n",
      "Epoch 958/1000\n",
      "898/898 [==============================] - 0s 4us/sample - loss: 0.2006\n",
      "Epoch 959/1000\n",
      "898/898 [==============================] - 0s 6us/sample - loss: 0.2004\n",
      "Epoch 960/1000\n",
      "898/898 [==============================] - 0s 4us/sample - loss: 0.2003\n",
      "Epoch 961/1000\n",
      "898/898 [==============================] - 0s 6us/sample - loss: 0.2002\n",
      "Epoch 962/1000\n",
      "898/898 [==============================] - 0s 6us/sample - loss: 0.2001\n",
      "Epoch 963/1000\n",
      "898/898 [==============================] - 0s 4us/sample - loss: 0.2000\n",
      "Epoch 964/1000\n",
      "898/898 [==============================] - 0s 4us/sample - loss: 0.1999\n",
      "Epoch 965/1000\n",
      "898/898 [==============================] - 0s 6us/sample - loss: 0.1998\n",
      "Epoch 966/1000\n",
      "898/898 [==============================] - 0s 4us/sample - loss: 0.1997\n",
      "Epoch 967/1000\n",
      "898/898 [==============================] - 0s 4us/sample - loss: 0.1996\n",
      "Epoch 968/1000\n",
      "898/898 [==============================] - 0s 10us/sample - loss: 0.1995\n",
      "Epoch 969/1000\n",
      "898/898 [==============================] - 0s 13us/sample - loss: 0.1994\n",
      "Epoch 970/1000\n",
      "898/898 [==============================] - 0s 4us/sample - loss: 0.1993\n",
      "Epoch 971/1000\n",
      "898/898 [==============================] - 0s 6us/sample - loss: 0.1992\n",
      "Epoch 972/1000\n",
      "898/898 [==============================] - 0s 6us/sample - loss: 0.1991\n",
      "Epoch 973/1000\n",
      "898/898 [==============================] - 0s 4us/sample - loss: 0.1990\n",
      "Epoch 974/1000\n",
      "898/898 [==============================] - 0s 6us/sample - loss: 0.1989\n",
      "Epoch 975/1000\n",
      "898/898 [==============================] - 0s 6us/sample - loss: 0.1988\n",
      "Epoch 976/1000\n",
      "898/898 [==============================] - 0s 6us/sample - loss: 0.1987\n",
      "Epoch 977/1000\n",
      "898/898 [==============================] - 0s 4us/sample - loss: 0.1985\n",
      "Epoch 978/1000\n",
      "898/898 [==============================] - 0s 4us/sample - loss: 0.1984\n",
      "Epoch 979/1000\n",
      "898/898 [==============================] - 0s 4us/sample - loss: 0.1983\n",
      "Epoch 980/1000\n",
      "898/898 [==============================] - 0s 6us/sample - loss: 0.1982\n",
      "Epoch 981/1000\n",
      "898/898 [==============================] - 0s 4us/sample - loss: 0.1981\n",
      "Epoch 982/1000\n",
      "898/898 [==============================] - 0s 4us/sample - loss: 0.1980\n",
      "Epoch 983/1000\n",
      "898/898 [==============================] - 0s 4us/sample - loss: 0.1979\n",
      "Epoch 984/1000\n",
      "898/898 [==============================] - 0s 6us/sample - loss: 0.1978\n",
      "Epoch 985/1000\n",
      "898/898 [==============================] - 0s 6us/sample - loss: 0.1977\n",
      "Epoch 986/1000\n",
      "898/898 [==============================] - 0s 4us/sample - loss: 0.1976\n",
      "Epoch 987/1000\n",
      "898/898 [==============================] - 0s 6us/sample - loss: 0.1975\n",
      "Epoch 988/1000\n",
      "898/898 [==============================] - 0s 7us/sample - loss: 0.1974\n",
      "Epoch 989/1000\n",
      "898/898 [==============================] - 0s 6us/sample - loss: 0.1973\n",
      "Epoch 990/1000\n",
      "898/898 [==============================] - 0s 8us/sample - loss: 0.1972\n",
      "Epoch 991/1000\n",
      "898/898 [==============================] - 0s 7us/sample - loss: 0.1971\n",
      "Epoch 992/1000\n",
      "898/898 [==============================] - 0s 9us/sample - loss: 0.1970\n",
      "Epoch 993/1000\n",
      "898/898 [==============================] - 0s 7us/sample - loss: 0.1969\n",
      "Epoch 994/1000\n",
      "898/898 [==============================] - 0s 8us/sample - loss: 0.1968\n",
      "Epoch 995/1000\n",
      "898/898 [==============================] - 0s 6us/sample - loss: 0.1967\n",
      "Epoch 996/1000\n",
      "898/898 [==============================] - 0s 6us/sample - loss: 0.1966\n",
      "Epoch 997/1000\n",
      "898/898 [==============================] - 0s 4us/sample - loss: 0.1965\n",
      "Epoch 998/1000\n",
      "898/898 [==============================] - 0s 8us/sample - loss: 0.1964\n",
      "Epoch 999/1000\n",
      "898/898 [==============================] - 0s 6us/sample - loss: 0.1963\n",
      "Epoch 1000/1000\n",
      "898/898 [==============================] - 0s 7us/sample - loss: 0.1962\n"
     ]
    }
   ],
   "source": [
    "from tensorflow.keras.layers import Input\n",
    "from tensorflow.keras.layers import Dense\n",
    "from tensorflow.keras.optimizers import SGD\n",
    "\n",
    "model.add(Input(shape=X_train_scaled.shape[1]))\n",
    "model.add(Dense(20, activation='relu'))\n",
    "model.add(Dense(20, activation='relu'))\n",
    "model.add(Dense(1))\n",
    "loss = 'mse'\n",
    "LEARNING_RATE = 0.001\n",
    "model.compile(loss=loss, optimizer=SGD(lr=LEARNING_RATE))\n",
    "BATCH_SIZE = X_train_scaled.shape[0]\n",
    "EPOCHS = 1000\n",
    "history = model.fit(X_train_scaled, Y_train_scaled, epochs=EPOCHS, batch_size=BATCH_SIZE)"
   ]
  },
  {
   "cell_type": "code",
   "execution_count": 204,
   "metadata": {},
   "outputs": [
    {
     "name": "stdout",
     "output_type": "stream",
     "text": [
      "Model: \"sequential_1\"\n",
      "_________________________________________________________________\n",
      "Layer (type)                 Output Shape              Param #   \n",
      "=================================================================\n",
      "dense (Dense)                (None, 20)                220       \n",
      "_________________________________________________________________\n",
      "dense_1 (Dense)              (None, 20)                420       \n",
      "_________________________________________________________________\n",
      "dense_2 (Dense)              (None, 1)                 21        \n",
      "_________________________________________________________________\n",
      "input_2 (InputLayer)         multiple                  0         \n",
      "_________________________________________________________________\n",
      "dense_3 (Dense)              (None, 20)                40        \n",
      "_________________________________________________________________\n",
      "dense_4 (Dense)              (None, 20)                420       \n",
      "_________________________________________________________________\n",
      "dense_5 (Dense)              (None, 1)                 21        \n",
      "_________________________________________________________________\n",
      "input_3 (InputLayer)         multiple                  0         \n",
      "_________________________________________________________________\n",
      "dense_6 (Dense)              (None, 20)                40        \n",
      "_________________________________________________________________\n",
      "dense_7 (Dense)              (None, 20)                420       \n",
      "_________________________________________________________________\n",
      "dense_8 (Dense)              (None, 1)                 21        \n",
      "=================================================================\n",
      "Total params: 1,623\n",
      "Trainable params: 1,623\n",
      "Non-trainable params: 0\n",
      "_________________________________________________________________\n"
     ]
    }
   ],
   "source": [
    "model.summary()"
   ]
  },
  {
   "cell_type": "code",
   "execution_count": 205,
   "metadata": {},
   "outputs": [
    {
     "data": {
      "image/png": "[encoded data removed]",
      "text/plain": [
       "<Figure size 576x360 with 1 Axes>"
      ]
     },
     "metadata": {
      "needs_background": "light"
     },
     "output_type": "display_data"
    }
   ],
   "source": [
    "pd.DataFrame(history.history).plot(figsize=(8, 5))\n",
    "plt.grid(True)\n",
    "plt.title('Model performance throughout training')\n",
    "plt.ylabel('Loss')\n",
    "plt.xlabel('epoch')\n",
    "plt.show()"
   ]
  },
  {
   "cell_type": "markdown",
   "metadata": {},
   "source": [
    "### Prédiction sur X_val"
   ]
  },
  {
   "cell_type": "code",
   "execution_count": 101,
   "metadata": {},
   "outputs": [],
   "source": [
    "predict = model.predict(X_val_scaled)"
   ]
  },
  {
   "cell_type": "markdown",
   "metadata": {},
   "source": [
    "### Calcul de l'erreur sur la prédiction (MSE)"
   ]
  },
  {
   "cell_type": "code",
   "execution_count": 102,
   "metadata": {},
   "outputs": [
    {
     "name": "stdout",
     "output_type": "stream",
     "text": [
      "0.1481802114287765\n"
     ]
    }
   ],
   "source": [
    "from sklearn.metrics import mean_squared_error\n",
    "\n",
    "mse_krm=mean_squared_error(Y_val_scaled, predict)\n",
    "print(mse_krm)"
   ]
  },
  {
   "cell_type": "code",
   "execution_count": 103,
   "metadata": {},
   "outputs": [
    {
     "data": {
      "text/plain": [
       "0.38494182862969895"
      ]
     },
     "execution_count": 103,
     "metadata": {},
     "output_type": "execute_result"
    }
   ],
   "source": [
    "rmse = np.sqrt(mse_krm)\n",
    "rmse"
   ]
  },
  {
   "cell_type": "markdown",
   "metadata": {},
   "source": [
    "### Reconversion du SalePrice"
   ]
  },
  {
   "cell_type": "code",
   "execution_count": 104,
   "metadata": {},
   "outputs": [],
   "source": [
    "predict = scaler2.inverse_transform(predict)\n",
    "predict  = np.e**predict"
   ]
  },
  {
   "cell_type": "markdown",
   "metadata": {},
   "source": [
    "### Choix des colonne sur le test_full"
   ]
  },
  {
   "cell_type": "code",
   "execution_count": 110,
   "metadata": {},
   "outputs": [],
   "source": [
    "cols3 = cols3.drop(\"SalePrice\")\n",
    "test = test_full[cols3]"
   ]
  },
  {
   "cell_type": "code",
   "execution_count": 111,
   "metadata": {},
   "outputs": [
    {
     "data": {
      "text/html": [
       "<div>\n",
       "<style scoped>\n",
       "    .dataframe tbody tr th:only-of-type {\n",
       "        vertical-align: middle;\n",
       "    }\n",
       "\n",
       "    .dataframe tbody tr th {\n",
       "        vertical-align: top;\n",
       "    }\n",
       "\n",
       "    .dataframe thead th {\n",
       "        text-align: right;\n",
       "    }\n",
       "</style>\n",
       "<table border=\"1\" class=\"dataframe\">\n",
       "  <thead>\n",
       "    <tr style=\"text-align: right;\">\n",
       "      <th></th>\n",
       "      <th>OverallQual</th>\n",
       "      <th>GrLivArea</th>\n",
       "      <th>GarageArea</th>\n",
       "      <th>YearBuilt</th>\n",
       "      <th>FullBath</th>\n",
       "      <th>1stFlrSF</th>\n",
       "      <th>YearRemodAdd</th>\n",
       "      <th>Fireplaces</th>\n",
       "      <th>MasVnrArea</th>\n",
       "      <th>OpenPorchSF</th>\n",
       "    </tr>\n",
       "  </thead>\n",
       "  <tbody>\n",
       "    <tr>\n",
       "      <th>0</th>\n",
       "      <td>5</td>\n",
       "      <td>896</td>\n",
       "      <td>730.0</td>\n",
       "      <td>1961</td>\n",
       "      <td>1</td>\n",
       "      <td>896</td>\n",
       "      <td>1961</td>\n",
       "      <td>0</td>\n",
       "      <td>0.0</td>\n",
       "      <td>0</td>\n",
       "    </tr>\n",
       "    <tr>\n",
       "      <th>1</th>\n",
       "      <td>6</td>\n",
       "      <td>1329</td>\n",
       "      <td>312.0</td>\n",
       "      <td>1958</td>\n",
       "      <td>1</td>\n",
       "      <td>1329</td>\n",
       "      <td>1958</td>\n",
       "      <td>0</td>\n",
       "      <td>108.0</td>\n",
       "      <td>36</td>\n",
       "    </tr>\n",
       "    <tr>\n",
       "      <th>2</th>\n",
       "      <td>5</td>\n",
       "      <td>1629</td>\n",
       "      <td>482.0</td>\n",
       "      <td>1997</td>\n",
       "      <td>2</td>\n",
       "      <td>928</td>\n",
       "      <td>1998</td>\n",
       "      <td>1</td>\n",
       "      <td>0.0</td>\n",
       "      <td>34</td>\n",
       "    </tr>\n",
       "    <tr>\n",
       "      <th>3</th>\n",
       "      <td>6</td>\n",
       "      <td>1604</td>\n",
       "      <td>470.0</td>\n",
       "      <td>1998</td>\n",
       "      <td>2</td>\n",
       "      <td>926</td>\n",
       "      <td>1998</td>\n",
       "      <td>1</td>\n",
       "      <td>20.0</td>\n",
       "      <td>36</td>\n",
       "    </tr>\n",
       "    <tr>\n",
       "      <th>4</th>\n",
       "      <td>8</td>\n",
       "      <td>1280</td>\n",
       "      <td>506.0</td>\n",
       "      <td>1992</td>\n",
       "      <td>2</td>\n",
       "      <td>1280</td>\n",
       "      <td>1992</td>\n",
       "      <td>0</td>\n",
       "      <td>0.0</td>\n",
       "      <td>82</td>\n",
       "    </tr>\n",
       "    <tr>\n",
       "      <th>...</th>\n",
       "      <td>...</td>\n",
       "      <td>...</td>\n",
       "      <td>...</td>\n",
       "      <td>...</td>\n",
       "      <td>...</td>\n",
       "      <td>...</td>\n",
       "      <td>...</td>\n",
       "      <td>...</td>\n",
       "      <td>...</td>\n",
       "      <td>...</td>\n",
       "    </tr>\n",
       "    <tr>\n",
       "      <th>1454</th>\n",
       "      <td>4</td>\n",
       "      <td>1092</td>\n",
       "      <td>0.0</td>\n",
       "      <td>1970</td>\n",
       "      <td>1</td>\n",
       "      <td>546</td>\n",
       "      <td>1970</td>\n",
       "      <td>0</td>\n",
       "      <td>0.0</td>\n",
       "      <td>0</td>\n",
       "    </tr>\n",
       "    <tr>\n",
       "      <th>1455</th>\n",
       "      <td>4</td>\n",
       "      <td>1092</td>\n",
       "      <td>286.0</td>\n",
       "      <td>1970</td>\n",
       "      <td>1</td>\n",
       "      <td>546</td>\n",
       "      <td>1970</td>\n",
       "      <td>0</td>\n",
       "      <td>0.0</td>\n",
       "      <td>24</td>\n",
       "    </tr>\n",
       "    <tr>\n",
       "      <th>1456</th>\n",
       "      <td>5</td>\n",
       "      <td>1224</td>\n",
       "      <td>576.0</td>\n",
       "      <td>1960</td>\n",
       "      <td>1</td>\n",
       "      <td>1224</td>\n",
       "      <td>1996</td>\n",
       "      <td>1</td>\n",
       "      <td>0.0</td>\n",
       "      <td>0</td>\n",
       "    </tr>\n",
       "    <tr>\n",
       "      <th>1457</th>\n",
       "      <td>5</td>\n",
       "      <td>970</td>\n",
       "      <td>0.0</td>\n",
       "      <td>1992</td>\n",
       "      <td>1</td>\n",
       "      <td>970</td>\n",
       "      <td>1992</td>\n",
       "      <td>0</td>\n",
       "      <td>0.0</td>\n",
       "      <td>32</td>\n",
       "    </tr>\n",
       "    <tr>\n",
       "      <th>1458</th>\n",
       "      <td>7</td>\n",
       "      <td>2000</td>\n",
       "      <td>650.0</td>\n",
       "      <td>1993</td>\n",
       "      <td>2</td>\n",
       "      <td>996</td>\n",
       "      <td>1994</td>\n",
       "      <td>1</td>\n",
       "      <td>94.0</td>\n",
       "      <td>48</td>\n",
       "    </tr>\n",
       "  </tbody>\n",
       "</table>\n",
       "<p>1459 rows × 10 columns</p>\n",
       "</div>"
      ],
      "text/plain": [
       "      OverallQual  GrLivArea  GarageArea  YearBuilt  FullBath  1stFlrSF  \\\n",
       "0               5        896       730.0       1961         1       896   \n",
       "1               6       1329       312.0       1958         1      1329   \n",
       "2               5       1629       482.0       1997         2       928   \n",
       "3               6       1604       470.0       1998         2       926   \n",
       "4               8       1280       506.0       1992         2      1280   \n",
       "...           ...        ...         ...        ...       ...       ...   \n",
       "1454            4       1092         0.0       1970         1       546   \n",
       "1455            4       1092       286.0       1970         1       546   \n",
       "1456            5       1224       576.0       1960         1      1224   \n",
       "1457            5        970         0.0       1992         1       970   \n",
       "1458            7       2000       650.0       1993         2       996   \n",
       "\n",
       "      YearRemodAdd  Fireplaces  MasVnrArea  OpenPorchSF  \n",
       "0             1961           0         0.0            0  \n",
       "1             1958           0       108.0           36  \n",
       "2             1998           1         0.0           34  \n",
       "3             1998           1        20.0           36  \n",
       "4             1992           0         0.0           82  \n",
       "...            ...         ...         ...          ...  \n",
       "1454          1970           0         0.0            0  \n",
       "1455          1970           0         0.0           24  \n",
       "1456          1996           1         0.0            0  \n",
       "1457          1992           0         0.0           32  \n",
       "1458          1994           1        94.0           48  \n",
       "\n",
       "[1459 rows x 10 columns]"
      ]
     },
     "execution_count": 111,
     "metadata": {},
     "output_type": "execute_result"
    }
   ],
   "source": [
    "test"
   ]
  },
  {
   "cell_type": "markdown",
   "metadata": {},
   "source": [
    "### Transfo du test"
   ]
  },
  {
   "cell_type": "code",
   "execution_count": 144,
   "metadata": {},
   "outputs": [],
   "source": [
    "test = test.fillna(0)"
   ]
  },
  {
   "cell_type": "code",
   "execution_count": 145,
   "metadata": {},
   "outputs": [
    {
     "data": {
      "text/plain": [
       "OverallQual     0\n",
       "GrLivArea       0\n",
       "GarageArea      0\n",
       "YearBuilt       0\n",
       "FullBath        0\n",
       "1stFlrSF        0\n",
       "YearRemodAdd    0\n",
       "Fireplaces      0\n",
       "MasVnrArea      0\n",
       "OpenPorchSF     0\n",
       "dtype: int64"
      ]
     },
     "execution_count": 145,
     "metadata": {},
     "output_type": "execute_result"
    }
   ],
   "source": [
    "test.isna().sum()"
   ]
  },
  {
   "cell_type": "code",
   "execution_count": 146,
   "metadata": {},
   "outputs": [],
   "source": [
    "test_scaled = scaler.transform(test)"
   ]
  },
  {
   "cell_type": "markdown",
   "metadata": {},
   "source": [
    "### Prédictions sur le test"
   ]
  },
  {
   "cell_type": "code",
   "execution_count": 147,
   "metadata": {},
   "outputs": [],
   "source": [
    "predict_test = model.predict(test_scaled)"
   ]
  },
  {
   "cell_type": "code",
   "execution_count": 148,
   "metadata": {},
   "outputs": [
    {
     "data": {
      "text/plain": [
       "array([[-0.89096284],\n",
       "       [-0.49023205],\n",
       "       [-0.05869185],\n",
       "       ...,\n",
       "       [-0.3051048 ],\n",
       "       [-0.98444676],\n",
       "       [ 0.84915817]], dtype=float32)"
      ]
     },
     "execution_count": 148,
     "metadata": {},
     "output_type": "execute_result"
    }
   ],
   "source": [
    "predict_test"
   ]
  },
  {
   "cell_type": "markdown",
   "metadata": {},
   "source": [
    "### Reconversion prédiction et soumission Kaggle"
   ]
  },
  {
   "cell_type": "code",
   "execution_count": 149,
   "metadata": {},
   "outputs": [],
   "source": [
    "predict_test = scaler2.inverse_transform(predict_test)\n",
    "predict_test  = np.e**predict_test"
   ]
  },
  {
   "cell_type": "code",
   "execution_count": 175,
   "metadata": {},
   "outputs": [
    {
     "data": {
      "text/html": [
       "<div>\n",
       "<style scoped>\n",
       "    .dataframe tbody tr th:only-of-type {\n",
       "        vertical-align: middle;\n",
       "    }\n",
       "\n",
       "    .dataframe tbody tr th {\n",
       "        vertical-align: top;\n",
       "    }\n",
       "\n",
       "    .dataframe thead th {\n",
       "        text-align: right;\n",
       "    }\n",
       "</style>\n",
       "<table border=\"1\" class=\"dataframe\">\n",
       "  <thead>\n",
       "    <tr style=\"text-align: right;\">\n",
       "      <th></th>\n",
       "      <th>0</th>\n",
       "    </tr>\n",
       "    <tr>\n",
       "      <th>Id</th>\n",
       "      <th></th>\n",
       "    </tr>\n",
       "  </thead>\n",
       "  <tbody>\n",
       "    <tr>\n",
       "      <th>1461</th>\n",
       "      <td>121024</td>\n",
       "    </tr>\n",
       "    <tr>\n",
       "      <th>1462</th>\n",
       "      <td>139054</td>\n",
       "    </tr>\n",
       "    <tr>\n",
       "      <th>1463</th>\n",
       "      <td>161485</td>\n",
       "    </tr>\n",
       "    <tr>\n",
       "      <th>1464</th>\n",
       "      <td>177088</td>\n",
       "    </tr>\n",
       "    <tr>\n",
       "      <th>1465</th>\n",
       "      <td>197720</td>\n",
       "    </tr>\n",
       "    <tr>\n",
       "      <th>...</th>\n",
       "      <td>...</td>\n",
       "    </tr>\n",
       "    <tr>\n",
       "      <th>2915</th>\n",
       "      <td>94188</td>\n",
       "    </tr>\n",
       "    <tr>\n",
       "      <th>2916</th>\n",
       "      <td>101631</td>\n",
       "    </tr>\n",
       "    <tr>\n",
       "      <th>2917</th>\n",
       "      <td>148267</td>\n",
       "    </tr>\n",
       "    <tr>\n",
       "      <th>2918</th>\n",
       "      <td>117166</td>\n",
       "    </tr>\n",
       "    <tr>\n",
       "      <th>2919</th>\n",
       "      <td>221190</td>\n",
       "    </tr>\n",
       "  </tbody>\n",
       "</table>\n",
       "<p>1459 rows × 1 columns</p>\n",
       "</div>"
      ],
      "text/plain": [
       "           0\n",
       "Id          \n",
       "1461  121024\n",
       "1462  139054\n",
       "1463  161485\n",
       "1464  177088\n",
       "1465  197720\n",
       "...      ...\n",
       "2915   94188\n",
       "2916  101631\n",
       "2917  148267\n",
       "2918  117166\n",
       "2919  221190\n",
       "\n",
       "[1459 rows x 1 columns]"
      ]
     },
     "execution_count": 175,
     "metadata": {},
     "output_type": "execute_result"
    }
   ],
   "source": [
    "from pandas import DataFrame\n",
    "df = DataFrame(data=predict_test, index=test_full_Id)\n",
    "df = df.astype('int64')\n",
    "df\n"
   ]
  },
  {
   "cell_type": "code",
   "execution_count": 178,
   "metadata": {},
   "outputs": [
    {
     "data": {
      "text/html": [
       "<div>\n",
       "<style scoped>\n",
       "    .dataframe tbody tr th:only-of-type {\n",
       "        vertical-align: middle;\n",
       "    }\n",
       "\n",
       "    .dataframe tbody tr th {\n",
       "        vertical-align: top;\n",
       "    }\n",
       "\n",
       "    .dataframe thead th {\n",
       "        text-align: right;\n",
       "    }\n",
       "</style>\n",
       "<table border=\"1\" class=\"dataframe\">\n",
       "  <thead>\n",
       "    <tr style=\"text-align: right;\">\n",
       "      <th></th>\n",
       "      <th>SalePrice</th>\n",
       "    </tr>\n",
       "    <tr>\n",
       "      <th>Id</th>\n",
       "      <th></th>\n",
       "    </tr>\n",
       "  </thead>\n",
       "  <tbody>\n",
       "    <tr>\n",
       "      <th>1461</th>\n",
       "      <td>121024</td>\n",
       "    </tr>\n",
       "    <tr>\n",
       "      <th>1462</th>\n",
       "      <td>139054</td>\n",
       "    </tr>\n",
       "    <tr>\n",
       "      <th>1463</th>\n",
       "      <td>161485</td>\n",
       "    </tr>\n",
       "    <tr>\n",
       "      <th>1464</th>\n",
       "      <td>177088</td>\n",
       "    </tr>\n",
       "    <tr>\n",
       "      <th>1465</th>\n",
       "      <td>197720</td>\n",
       "    </tr>\n",
       "    <tr>\n",
       "      <th>...</th>\n",
       "      <td>...</td>\n",
       "    </tr>\n",
       "    <tr>\n",
       "      <th>2915</th>\n",
       "      <td>94188</td>\n",
       "    </tr>\n",
       "    <tr>\n",
       "      <th>2916</th>\n",
       "      <td>101631</td>\n",
       "    </tr>\n",
       "    <tr>\n",
       "      <th>2917</th>\n",
       "      <td>148267</td>\n",
       "    </tr>\n",
       "    <tr>\n",
       "      <th>2918</th>\n",
       "      <td>117166</td>\n",
       "    </tr>\n",
       "    <tr>\n",
       "      <th>2919</th>\n",
       "      <td>221190</td>\n",
       "    </tr>\n",
       "  </tbody>\n",
       "</table>\n",
       "<p>1459 rows × 1 columns</p>\n",
       "</div>"
      ],
      "text/plain": [
       "      SalePrice\n",
       "Id             \n",
       "1461     121024\n",
       "1462     139054\n",
       "1463     161485\n",
       "1464     177088\n",
       "1465     197720\n",
       "...         ...\n",
       "2915      94188\n",
       "2916     101631\n",
       "2917     148267\n",
       "2918     117166\n",
       "2919     221190\n",
       "\n",
       "[1459 rows x 1 columns]"
      ]
     },
     "execution_count": 178,
     "metadata": {},
     "output_type": "execute_result"
    }
   ],
   "source": [
    "df.columns = ['SalePrice']\n",
    "#df = df.rename(columns={\"\":\"SalePrice\"})\n",
    "df"
   ]
  },
  {
   "cell_type": "code",
   "execution_count": 179,
   "metadata": {},
   "outputs": [],
   "source": [
    "df.to_csv('prediction.csv')"
   ]
  },
  {
   "cell_type": "markdown",
   "metadata": {},
   "source": [
    "Avec XGBoost"
   ]
  },
  {
   "cell_type": "code",
   "execution_count": 191,
   "metadata": {},
   "outputs": [],
   "source": [
    "from xgboost import XGBRegressor\n",
    "\n",
    "model2 = XGBRegressor()"
   ]
  },
  {
   "cell_type": "code",
   "execution_count": 192,
   "metadata": {},
   "outputs": [
    {
     "name": "stdout",
     "output_type": "stream",
     "text": [
      "[17:14:57] WARNING: src/objective/regression_obj.cu:152: reg:linear is now deprecated in favor of reg:squarederror.\n"
     ]
    },
    {
     "data": {
      "text/plain": [
       "XGBRegressor(base_score=0.5, booster='gbtree', colsample_bylevel=1,\n",
       "             colsample_bynode=1, colsample_bytree=1, gamma=0,\n",
       "             importance_type='gain', learning_rate=0.1, max_delta_step=0,\n",
       "             max_depth=3, min_child_weight=1, missing=None, n_estimators=100,\n",
       "             n_jobs=1, nthread=None, objective='reg:linear', random_state=0,\n",
       "             reg_alpha=0, reg_lambda=1, scale_pos_weight=1, seed=None,\n",
       "             silent=None, subsample=1, verbosity=1)"
      ]
     },
     "execution_count": 192,
     "metadata": {},
     "output_type": "execute_result"
    }
   ],
   "source": [
    "model2.fit(X_train_scaled, Y_train_scaled)"
   ]
  },
  {
   "cell_type": "code",
   "execution_count": 193,
   "metadata": {},
   "outputs": [],
   "source": [
    "prediction_boost = model2.predict(X_val_scaled)"
   ]
  },
  {
   "cell_type": "code",
   "execution_count": 196,
   "metadata": {},
   "outputs": [],
   "source": [
    "prediction_boost_test = model2.predict(test_scaled)"
   ]
  },
  {
   "cell_type": "code",
   "execution_count": 197,
   "metadata": {},
   "outputs": [],
   "source": [
    "prediction_boost_test = scaler2.inverse_transform(prediction_boost_test)\n",
    "prediction_boost_test  = np.e**prediction_boost_test"
   ]
  },
  {
   "cell_type": "code",
   "execution_count": 198,
   "metadata": {},
   "outputs": [
    {
     "data": {
      "text/html": [
       "<div>\n",
       "<style scoped>\n",
       "    .dataframe tbody tr th:only-of-type {\n",
       "        vertical-align: middle;\n",
       "    }\n",
       "\n",
       "    .dataframe tbody tr th {\n",
       "        vertical-align: top;\n",
       "    }\n",
       "\n",
       "    .dataframe thead th {\n",
       "        text-align: right;\n",
       "    }\n",
       "</style>\n",
       "<table border=\"1\" class=\"dataframe\">\n",
       "  <thead>\n",
       "    <tr style=\"text-align: right;\">\n",
       "      <th></th>\n",
       "      <th>SalePrice</th>\n",
       "    </tr>\n",
       "    <tr>\n",
       "      <th>Id</th>\n",
       "      <th></th>\n",
       "    </tr>\n",
       "  </thead>\n",
       "  <tbody>\n",
       "    <tr>\n",
       "      <th>1461</th>\n",
       "      <td>128820</td>\n",
       "    </tr>\n",
       "    <tr>\n",
       "      <th>1462</th>\n",
       "      <td>138722</td>\n",
       "    </tr>\n",
       "    <tr>\n",
       "      <th>1463</th>\n",
       "      <td>168369</td>\n",
       "    </tr>\n",
       "    <tr>\n",
       "      <th>1464</th>\n",
       "      <td>180961</td>\n",
       "    </tr>\n",
       "    <tr>\n",
       "      <th>1465</th>\n",
       "      <td>206416</td>\n",
       "    </tr>\n",
       "    <tr>\n",
       "      <th>...</th>\n",
       "      <td>...</td>\n",
       "    </tr>\n",
       "    <tr>\n",
       "      <th>2915</th>\n",
       "      <td>73209</td>\n",
       "    </tr>\n",
       "    <tr>\n",
       "      <th>2916</th>\n",
       "      <td>80980</td>\n",
       "    </tr>\n",
       "    <tr>\n",
       "      <th>2917</th>\n",
       "      <td>153174</td>\n",
       "    </tr>\n",
       "    <tr>\n",
       "      <th>2918</th>\n",
       "      <td>114544</td>\n",
       "    </tr>\n",
       "    <tr>\n",
       "      <th>2919</th>\n",
       "      <td>240531</td>\n",
       "    </tr>\n",
       "  </tbody>\n",
       "</table>\n",
       "<p>1459 rows × 1 columns</p>\n",
       "</div>"
      ],
      "text/plain": [
       "      SalePrice\n",
       "Id             \n",
       "1461     128820\n",
       "1462     138722\n",
       "1463     168369\n",
       "1464     180961\n",
       "1465     206416\n",
       "...         ...\n",
       "2915      73209\n",
       "2916      80980\n",
       "2917     153174\n",
       "2918     114544\n",
       "2919     240531\n",
       "\n",
       "[1459 rows x 1 columns]"
      ]
     },
     "execution_count": 198,
     "metadata": {},
     "output_type": "execute_result"
    }
   ],
   "source": [
    "df2 = DataFrame(data=prediction_boost_test, index=test_full_Id)\n",
    "df2 = df2.astype('int64')\n",
    "df2.columns = ['SalePrice']\n",
    "df2"
   ]
  },
  {
   "cell_type": "code",
   "execution_count": 199,
   "metadata": {},
   "outputs": [],
   "source": [
    "df2.to_csv('prediction_boost.csv')"
   ]
  }
 ],
 "metadata": {
  "kernelspec": {
   "display_name": "Python 3",
   "language": "python",
   "name": "python3"
  },
  "language_info": {
   "codemirror_mode": {
    "name": "ipython",
    "version": 3
   },
   "file_extension": ".py",
   "mimetype": "text/x-python",
   "name": "python",
   "nbconvert_exporter": "python",
   "pygments_lexer": "ipython3",
   "version": "3.7.4"
  }
 },
 "nbformat": 4,
 "nbformat_minor": 2
}
